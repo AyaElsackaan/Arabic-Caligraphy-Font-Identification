{
 "cells": [
  {
   "cell_type": "code",
   "execution_count": 1342,
   "metadata": {},
   "outputs": [],
   "source": [
    "import os\n",
    "from PIL import Image\n",
    "import numpy as np\n",
    "import cv2\n",
    "from commonfunctions import *\n",
    "from feature_extraction import *\n",
    "from sklearn.neural_network import MLPClassifier\n",
    "from sklearn.model_selection import GridSearchCV\n",
    "from sklearn.ensemble import RandomForestClassifier, VotingClassifier\n",
    "import joblib\n",
    "from sklearn.svm import LinearSVC,SVC\n",
    "from sklearn.model_selection import cross_val_score\n",
    "from sklearn.decomposition import PCA\n",
    "from skimage.filters import threshold_otsu\n"
   ]
  },
  {
   "cell_type": "code",
   "execution_count": 690,
   "metadata": {},
   "outputs": [],
   "source": [
    "def unify(img):\n",
    "    #bet7awel le binary\n",
    "    color=(int(np.max(x))+int(np.min(x)))/2\n",
    "    print(np.max(x))\n",
    "    print(np.min(x))\n",
    "    print(color)\n",
    "    print(\"hehhh\")\n",
    "    if img[0][0]>color:\n",
    "        return cv2.resize(256-img, (500,500), interpolation = cv2.INTER_AREA)\n",
    "    else:\n",
    "        return cv2.resize(img, (500,500), interpolation = cv2.INTER_AREA)\n",
    "    "
   ]
  },
  {
   "cell_type": "code",
   "execution_count": 1329,
   "metadata": {},
   "outputs": [],
   "source": [
    "def pre_process(img):\n",
    "    #bet7awel le binary\n",
    "    #color=(int(np.max(x))+int(np.min(x)))/2\n",
    "    #print(np.max(x))\n",
    "    #print(np.min(x))\n",
    "    #print(color)\n",
    "    #print(\"hehhh\")\n",
    "    #if x[0][0][0]>color:\n",
    "    #    return (x<color).astype(int)\n",
    "    #else:\n",
    "    #    return (x>color).astype(int)\n",
    "#     ret, thresh1 = cv2.threshold(img, 120, 255, cv2.THRESH_BINARY + \n",
    "#                                             cv2.THRESH_OTSU)\n",
    "#     if img[0][0]>125:\n",
    "#         return (256 -img)/256\n",
    "#     return (img)/256\n",
    "    thresh = threshold_otsu(image)\n",
    "    binary = image > thresh\n",
    "    \n",
    "def crop_image(img,tol=0):\n",
    "    # img is 2D image data\n",
    "    # tol  is tolerance\n",
    "    mask = img>tol\n",
    "    print(mask)\n",
    "    #print(mask.any(1),mask.any(0))\n",
    "    return img[np.ix_(mask.any(1).reshape(-1),mask.any(0).reshape(-1))]"
   ]
  },
  {
   "cell_type": "code",
   "execution_count": 1330,
   "metadata": {},
   "outputs": [],
   "source": [
    "def read_images(image_path='ACdata_base',data=\"test_set\"):\n",
    "    X = []\n",
    "    y = []\n",
    "    directories = [directory for directory in os.listdir(image_path) if not directory=='names.txt']\n",
    "    for directory in directories:\n",
    "        print(directory)\n",
    "        for image_name in os.listdir(os.path.join(image_path, directory)):\n",
    "            print(image_name)\n",
    "            image = Image.open (os.path.join(os.path.join(image_path, directory),image_name))\n",
    "            image = image.convert (\"L\")\n",
    "            X.append(np.asarray (image ))\n",
    "            y.append(directory)\n",
    "        #images_names = list(dict.fromkeys(images_names))\n",
    "    X = np.array(X)\n",
    "    return X,y"
   ]
  },
  {
   "cell_type": "code",
   "execution_count": 1331,
   "metadata": {},
   "outputs": [
    {
     "name": "stdout",
     "output_type": "stream",
     "text": [
      "1\n",
      "0001.jpg\n",
      "0002.jpg\n",
      "0003.jpg\n",
      "0004.jpg\n",
      "0005.jpg\n",
      "0006.jpg\n",
      "0007.jpg\n",
      "0008.jpg\n",
      "0009.jpg\n",
      "0010.jpg\n",
      "0011.jpg\n",
      "0012.jpg\n",
      "0013.jpg\n",
      "0014.jpg\n",
      "0015.jpg\n",
      "0016.jpg\n",
      "0017.jpg\n",
      "0018.jpg\n",
      "0019.jpg\n",
      "0020.jpg\n",
      "0021.jpg\n",
      "0022.jpg\n",
      "0023.jpg\n",
      "0024.jpg\n",
      "0025.jpg\n",
      "0026.jpg\n",
      "0027.jpg\n",
      "0028.jpg\n",
      "0029.jpg\n",
      "0030.jpg\n",
      "0031.jpg\n",
      "0032.jpg\n",
      "0033.jpg\n",
      "0034.jpg\n",
      "0035.jpg\n",
      "0036.jpg\n",
      "0037.jpg\n",
      "0038.jpg\n",
      "0039.jpg\n",
      "0040.jpg\n",
      "0041.jpg\n",
      "0042.jpg\n",
      "0043.jpg\n",
      "0044.jpg\n",
      "0045.jpg\n",
      "0046.jpg\n",
      "0047.jpg\n",
      "0048.jpg\n",
      "0049.jpg\n",
      "0050.jpg\n",
      "0051.jpg\n",
      "0052.jpg\n",
      "0053.jpg\n",
      "0054.jpg\n",
      "0055.jpg\n",
      "0056.jpg\n",
      "0057.jpg\n",
      "0058.jpg\n",
      "0059.jpg\n",
      "0060.jpg\n",
      "0061.jpg\n",
      "0062.jpg\n",
      "0063.jpg\n",
      "0064.jpg\n",
      "0065.jpg\n",
      "0066.jpg\n",
      "0067.jpg\n",
      "0068.jpg\n",
      "0069.jpg\n",
      "0070.jpg\n",
      "0071.jpg\n",
      "0072.jpg\n",
      "0073.jpg\n",
      "0074.jpg\n",
      "0075.jpg\n",
      "0076.jpg\n",
      "0077.jpg\n",
      "0078.jpg\n",
      "0079.jpg\n",
      "0080.jpg\n",
      "0081.jpg\n",
      "0082.jpg\n",
      "0083.jpg\n",
      "0084.jpg\n",
      "0085.jpg\n",
      "0086.jpg\n",
      "0087.jpg\n",
      "0088.jpg\n",
      "0089.jpg\n",
      "0090.jpg\n",
      "0091.jpg\n",
      "0092.jpg\n",
      "0093.jpg\n",
      "0094.jpg\n",
      "0095.jpg\n",
      "0096.jpg\n",
      "0097.jpg\n",
      "0098.jpg\n",
      "0099.jpg\n",
      "0100.jpg\n",
      "0101.jpg\n",
      "0102.jpg\n",
      "0103.jpg\n",
      "0104.jpg\n",
      "0105.jpg\n",
      "0106.jpg\n",
      "0107.jpg\n",
      "0108.jpg\n",
      "0109.jpg\n",
      "0110.jpg\n",
      "0111.jpg\n",
      "0112.jpg\n",
      "0113.jpg\n",
      "0114.jpg\n",
      "0115.jpg\n",
      "0116.jpg\n",
      "0117.jpg\n",
      "0118.jpg\n",
      "0119.jpg\n",
      "0120.jpg\n",
      "0121.jpg\n",
      "0122.jpg\n",
      "0123.jpg\n",
      "0124.jpg\n",
      "0125.jpg\n",
      "0126.jpg\n",
      "0127.jpg\n",
      "0128.jpg\n",
      "0129.jpg\n",
      "0130.jpg\n",
      "0131.jpg\n",
      "0132.jpg\n",
      "0133.jpg\n",
      "0134.jpg\n",
      "0135.jpg\n",
      "0136.jpg\n",
      "0137.jpg\n",
      "0138.jpg\n",
      "0139.jpg\n",
      "0140.jpg\n",
      "0141.jpg\n",
      "0142.jpg\n",
      "0143.jpg\n",
      "0144.jpg\n",
      "0145.jpg\n",
      "0146.jpg\n",
      "0147.jpg\n",
      "0148.jpg\n",
      "0149.jpg\n",
      "0150.jpg\n",
      "0151.jpg\n",
      "0152.jpg\n",
      "0153.jpg\n",
      "0154.jpg\n",
      "0155.jpg\n",
      "0156.jpg\n",
      "0157.jpg\n",
      "0158.jpg\n",
      "0159.jpg\n",
      "0160.jpg\n",
      "0161.jpg\n",
      "0162.jpg\n",
      "0163.jpg\n",
      "0164.jpg\n",
      "0165.jpg\n",
      "0166.jpg\n",
      "0167.jpg\n",
      "0168.jpg\n",
      "0169.jpg\n",
      "0170.jpg\n",
      "0171.jpg\n",
      "0172.jpg\n",
      "0173.jpg\n",
      "0174.jpg\n",
      "0175.jpg\n",
      "0176.jpg\n",
      "0177.jpg\n",
      "0178.jpg\n",
      "0179.jpg\n",
      "0180.jpg\n",
      "0181.jpg\n",
      "0182.jpg\n",
      "0183.jpg\n",
      "0184.jpg\n",
      "0185.jpg\n",
      "0186.jpg\n",
      "0187.jpg\n",
      "0188.jpg\n",
      "0189.jpg\n",
      "0190.jpg\n",
      "2\n",
      "0191.jpg\n",
      "0192.jpg\n",
      "0193.jpg\n",
      "0194.jpg\n",
      "0195.jpg\n",
      "0196.jpg\n",
      "0197.jpg\n",
      "0198.jpg\n",
      "0199.jpg\n",
      "0200.jpg\n",
      "0201.jpg\n",
      "0202.jpg\n",
      "0203.jpg\n",
      "0204.jpg\n",
      "0205.jpg\n",
      "0206.jpg\n",
      "0207.jpg\n",
      "0208.jpg\n",
      "0209.jpg\n",
      "0210.jpg\n",
      "0211.jpg\n",
      "0212.jpg\n",
      "0213.jpg\n",
      "0214.jpg\n",
      "0215.jpg\n",
      "0216.jpg\n",
      "0217.jpg\n",
      "0218.jpg\n",
      "0219.jpg\n",
      "0220.jpg\n",
      "0221.jpg\n",
      "0222.jpg\n",
      "0223.jpg\n",
      "0224.jpg\n",
      "0225.jpg\n",
      "0226.jpg\n",
      "0227.jpg\n",
      "0228.jpg\n",
      "0229.jpg\n",
      "0230.jpg\n",
      "0231.jpg\n",
      "0232.jpg\n",
      "0233.jpg\n",
      "0234.jpg\n",
      "0235.jpg\n",
      "0236.jpg\n",
      "0237.jpg\n",
      "0238.jpg\n",
      "0239.jpg\n",
      "0240.jpg\n",
      "0241.jpg\n",
      "0242.jpg\n",
      "0243.jpg\n",
      "0244.jpg\n",
      "0245.jpg\n",
      "0246.jpg\n",
      "0247.jpg\n",
      "0248.jpg\n",
      "0249.jpg\n",
      "0250.jpg\n",
      "0251.jpg\n",
      "0252.jpg\n",
      "0253.jpg\n",
      "0254.jpg\n",
      "0255.jpg\n",
      "0256.jpg\n",
      "0257.jpg\n",
      "0258.jpg\n",
      "0259.jpg\n",
      "0260.jpg\n",
      "0261.jpg\n",
      "0262.jpg\n",
      "0263.jpg\n",
      "0264.jpg\n",
      "0265.jpg\n",
      "0266.jpg\n",
      "0267.jpg\n",
      "0268.jpg\n",
      "0269.jpg\n",
      "0270.jpg\n",
      "0271.jpg\n",
      "0272.jpg\n",
      "0273.jpg\n",
      "0274.jpg\n",
      "0275.jpg\n",
      "0276.jpg\n",
      "0277.jpg\n",
      "0278.jpg\n",
      "0279.jpg\n",
      "0280.jpg\n",
      "0281.jpg\n",
      "0282.jpg\n",
      "0283.jpg\n",
      "0284.jpg\n",
      "0285.jpg\n",
      "0286.jpg\n",
      "0287.jpg\n",
      "0288.jpg\n",
      "0289.jpg\n",
      "0290.jpg\n",
      "0291.jpg\n",
      "0292.jpg\n",
      "0293.jpg\n",
      "0294.jpg\n",
      "0295.jpg\n",
      "0296.jpg\n",
      "0297.jpg\n",
      "0298.jpg\n",
      "0299.jpg\n",
      "0300.jpg\n",
      "0301.jpg\n",
      "0302.jpg\n",
      "0303.jpg\n",
      "0304.jpg\n",
      "0305.jpg\n",
      "0306.jpg\n",
      "0307.jpg\n",
      "0308.jpg\n",
      "0309.jpg\n",
      "0310.jpg\n",
      "0311.jpg\n",
      "0312.jpg\n",
      "0313.jpg\n",
      "0314.jpg\n",
      "0315.jpg\n",
      "0316.jpg\n",
      "0317.jpg\n",
      "0318.jpg\n",
      "0319.jpg\n",
      "0320.jpg\n",
      "0321.jpg\n",
      "0322.jpg\n",
      "0323.jpg\n",
      "0324.jpg\n",
      "0325.jpg\n",
      "0326.jpg\n",
      "0327.jpg\n",
      "0328.jpg\n",
      "0329.jpg\n",
      "0330.jpg\n",
      "0331.jpg\n",
      "0332.jpg\n",
      "0333.jpg\n",
      "0334.jpg\n",
      "0335.jpg\n",
      "0336.jpg\n",
      "0337.jpg\n",
      "0338.jpg\n",
      "0339.jpg\n",
      "0340.jpg\n",
      "0341.jpg\n",
      "0342.jpg\n",
      "0343.jpg\n",
      "0344.jpg\n",
      "0345.jpg\n",
      "0346.jpg\n",
      "0347.jpg\n",
      "0348.jpg\n",
      "0349.jpg\n",
      "0350.jpg\n",
      "0351.jpg\n",
      "0352.jpg\n",
      "0353.jpg\n",
      "0354.jpg\n",
      "0355.jpg\n",
      "0356.jpg\n",
      "0357.jpg\n",
      "0358.jpg\n",
      "0359.jpg\n",
      "0360.jpg\n",
      "0361.jpg\n",
      "0362.jpg\n",
      "0363.jpg\n",
      "0364.jpg\n",
      "0365.jpg\n",
      "0366.jpg\n",
      "0367.jpg\n",
      "0368.jpg\n",
      "0369.jpg\n",
      "0370.jpg\n",
      "0371.jpg\n",
      "0372.jpg\n",
      "0373.jpg\n",
      "0374.jpg\n",
      "0375.jpg\n",
      "0376.jpg\n",
      "0377.jpg\n",
      "0378.jpg\n",
      "0379.jpg\n",
      "0380.jpg\n",
      "3\n",
      "0381.JPG\n",
      "0382.jpg\n",
      "0383.jpg\n",
      "0384.jpg\n",
      "0385.jpg\n",
      "0386.jpg\n",
      "0387.jpg\n",
      "0388.jpg\n",
      "0389.jpg\n",
      "0390.jpg\n",
      "0391.jpg\n",
      "0392.jpg\n",
      "0393.jpg\n",
      "0394.jpg\n",
      "0395.jpg\n",
      "0396.jpg\n",
      "0397.jpg\n",
      "0398.jpg\n",
      "0399.jpg\n",
      "0400.jpg\n",
      "0401.jpg\n",
      "0402.jpg\n",
      "0403.jpg\n",
      "0404.jpg\n",
      "0405.jpg\n",
      "0406.jpg\n",
      "0407.jpg\n",
      "0408.jpg\n",
      "0409.jpg\n",
      "0410.jpg\n",
      "0411.jpg\n",
      "0412.jpg\n",
      "0413.jpg\n",
      "0414.jpg\n",
      "0415.jpg\n",
      "0416.jpg\n",
      "0417.jpg\n",
      "0418.jpg\n",
      "0419.jpg\n",
      "0420.jpg\n",
      "0421.jpg\n",
      "0422.jpg\n",
      "0423.jpg\n",
      "0424.jpg\n",
      "0425.jpg\n",
      "0426.jpg\n",
      "0427.jpg\n",
      "0428.jpg\n",
      "0429.jpg\n",
      "0430.jpg\n",
      "0431.jpg\n",
      "0432.jpg\n",
      "0433.jpg\n",
      "0434.jpg\n",
      "0435.jpg\n",
      "0436.jpg\n",
      "0437.jpg\n",
      "0438.jpg\n",
      "0439.jpg\n",
      "0440.jpg\n",
      "0441.jpg\n",
      "0442.jpg\n",
      "0443.jpg\n",
      "0444.jpg\n",
      "0445.jpg\n",
      "0446.jpg\n",
      "0447.jpg\n",
      "0448.jpg\n",
      "0449.jpg\n",
      "0450.jpg\n",
      "0451.jpg\n",
      "0452.jpg\n",
      "0453.jpg\n",
      "0454.jpg\n",
      "0455.jpg\n",
      "0456.jpg\n",
      "0457.jpg\n",
      "0458.jpg\n",
      "0459.jpg\n",
      "0460.jpg\n",
      "0461.jpg\n",
      "0462.jpg\n",
      "0463.jpg\n",
      "0464.jpg\n",
      "0465.jpg\n",
      "0466.jpg\n",
      "0467.jpg\n",
      "0468.jpg\n",
      "0469.jpg\n",
      "0470.jpg\n",
      "0471.jpg\n",
      "0472.jpg\n",
      "0473.jpg\n",
      "0474.jpg\n",
      "0475.jpg\n",
      "0476.jpg\n",
      "0477.jpg\n",
      "0478.jpg\n",
      "0479.jpg\n",
      "0480.jpg\n",
      "0481.jpg\n",
      "0482.jpg\n",
      "0483.jpg\n",
      "0484.jpg\n",
      "0485.jpg\n",
      "0486.jpg\n",
      "0487.jpg\n",
      "0488.jpg\n",
      "0489.jpg\n",
      "0490.jpg\n",
      "0491.jpg\n",
      "0492.jpg\n",
      "0493.jpg\n",
      "0494.jpg\n",
      "0495.jpg\n",
      "0496.jpg\n",
      "0497.jpg\n",
      "0498.jpg\n",
      "0499.jpg\n",
      "0500.jpg\n",
      "0501.jpg\n",
      "0502.jpg\n",
      "0503.jpg\n",
      "0504.jpg\n",
      "0505.jpg\n",
      "0506.jpg\n",
      "0507.jpg\n",
      "0508.jpg\n",
      "0509.jpg\n",
      "0510.jpg\n",
      "0511.jpg\n",
      "0512.jpg\n",
      "0513.jpg\n",
      "0514.jpg\n",
      "0515.jpg\n",
      "0516.jpg\n",
      "0517.jpg\n",
      "0518.jpg\n",
      "0519.jpg\n",
      "0520.jpg\n",
      "0521.jpg\n",
      "0522.jpg\n",
      "0523.jpg\n",
      "0524.jpg\n",
      "0525.jpg\n",
      "0526.jpg\n",
      "0527.jpg\n",
      "0528.jpg\n",
      "0529.jpg\n",
      "0530.jpg\n",
      "0531.jpg\n",
      "0532.jpg\n",
      "0533.jpg\n",
      "0534.jpg\n",
      "0535.jpg\n",
      "0536.jpg\n",
      "0537.jpg\n",
      "0538.jpg\n",
      "0539.jpg\n",
      "0540.jpg\n",
      "0541.jpg\n",
      "0542.jpg\n",
      "0543.jpg\n",
      "0544.jpg\n",
      "0545.jpg\n",
      "0546.jpg\n",
      "0547.jpg\n",
      "0548.jpg\n",
      "0549.jpg\n",
      "0550.jpg\n",
      "0551.jpg\n",
      "0552.jpg\n",
      "0553.jpg\n",
      "0554.jpg\n",
      "0555.jpg\n",
      "0556.jpg\n",
      "0557.jpg\n",
      "0558.jpg\n",
      "0559.jpg\n",
      "0560.jpg\n",
      "4\n",
      "0561.jpg\n",
      "0562.jpg\n",
      "0563.jpg\n",
      "0564.jpg\n",
      "0565.jpg\n",
      "0566.jpg\n",
      "0567.jpg\n",
      "0568.jpg\n",
      "0569.jpg\n",
      "0570.jpg\n",
      "0571.jpg\n",
      "0572.jpg\n",
      "0573.jpg\n",
      "0574.jpg\n",
      "0575.jpg\n",
      "0576.jpg\n",
      "0577.jpg\n",
      "0578.jpg\n",
      "0579.jpg\n",
      "0580.jpg\n",
      "0581.jpg\n",
      "0582.jpg\n",
      "0583.jpg\n",
      "0584.jpg\n",
      "0585.jpg\n",
      "0586.jpg\n",
      "0587.jpg\n",
      "0588.jpg\n",
      "0589.jpg\n",
      "0590.jpg\n",
      "0591.jpg\n",
      "0592.jpg\n",
      "0593.jpg\n",
      "0594.jpg\n",
      "0595.jpg\n",
      "0596.jpg\n",
      "0597.jpg\n",
      "0598.jpg\n",
      "0599.jpg\n",
      "0600.jpg\n",
      "0601.jpg\n",
      "0602.jpg\n",
      "0603.jpg\n",
      "0604.jpg\n",
      "0605.jpg\n",
      "0606.jpg\n",
      "0607.jpg\n",
      "0608.jpg\n",
      "0609.jpg\n",
      "0610.jpg\n",
      "0611.jpg\n",
      "0612.jpg\n",
      "0613.jpg\n",
      "0614.jpg\n",
      "0615.jpg\n",
      "0616.jpg\n",
      "0617.jpg\n",
      "0618.jpg\n",
      "0619.jpg\n",
      "0620.jpg\n",
      "0621.jpg\n",
      "0622.jpg\n",
      "0623.jpg\n",
      "0624.jpg\n",
      "0625.jpg\n",
      "0626.jpg\n",
      "0627.jpg\n",
      "0628.jpg\n",
      "0629.jpg\n",
      "0630.jpg\n",
      "0631.jpg\n",
      "0632.jpg\n",
      "0633.jpg\n",
      "0634.jpg\n",
      "0635.jpg\n",
      "0636.jpg\n",
      "0637.jpg\n",
      "0638.jpg\n",
      "0639.jpg\n",
      "0640.jpg\n",
      "0641.jpg\n",
      "0642.jpg\n",
      "0643.jpg\n",
      "0644.jpg\n",
      "0645.jpg\n",
      "0646.jpg\n",
      "0647.jpg\n",
      "0648.jpg\n",
      "0649.jpg\n",
      "0650.jpg\n",
      "0651.jpg\n",
      "0652.jpg\n",
      "0653.jpg\n",
      "0654.jpg\n",
      "0655.jpg\n",
      "0656.jpg\n",
      "0657.jpg\n",
      "0658.jpg\n",
      "0659.jpg\n",
      "0660.jpg\n",
      "0661.jpg\n",
      "0662.jpg\n",
      "0663.jpg\n",
      "0664.jpg\n",
      "0665.jpg\n",
      "0666.jpg\n",
      "0667.jpg\n",
      "0668.jpg\n",
      "0669.jpg\n",
      "0670.jpg\n",
      "0671.jpg\n",
      "0672.jpg\n",
      "0673.jpg\n",
      "0674.jpg\n",
      "0675.jpg\n",
      "0676.jpg\n",
      "0677.jpg\n",
      "0678.jpg\n",
      "0679.jpg\n",
      "0680.jpg\n",
      "0681.jpg\n",
      "0682.jpg\n",
      "0683.jpg\n",
      "0684.jpg\n",
      "0685.jpg\n",
      "0686.jpg\n",
      "0687.jpg\n",
      "0688.jpg\n",
      "0689.jpg\n",
      "0690.jpg\n",
      "0691.jpg\n",
      "0692.jpg\n",
      "0693.jpg\n",
      "0694.jpg\n",
      "0695.jpg\n",
      "0696.jpg\n",
      "0697.jpg\n",
      "0698.jpg\n",
      "0699.jpg\n",
      "0700.jpg\n",
      "0701.jpg\n",
      "0702.jpg\n",
      "0703.jpg\n",
      "0704.jpg\n",
      "0705.jpg\n",
      "0706.jpg\n",
      "0707.jpg\n",
      "0708.jpg\n",
      "0709.jpg\n",
      "0710.jpg\n",
      "0711.jpg\n",
      "0712.jpg\n",
      "0713.jpg\n",
      "0714.jpg\n",
      "0715.jpg\n",
      "0716.jpg\n",
      "0717.jpg\n",
      "0718.jpg\n",
      "0719.jpg\n",
      "0720.jpg\n",
      "0721.jpg\n",
      "0722.jpg\n",
      "0723.jpg\n",
      "0724.jpg\n",
      "0725.jpg\n",
      "0726.jpg\n",
      "0727.jpg\n",
      "0728.jpg\n",
      "0729.jpg\n",
      "0730.jpg\n",
      "0731.jpg\n",
      "0732.jpg\n",
      "0733.jpg\n",
      "0734.jpg\n",
      "0735.jpg\n",
      "0736.jpg\n",
      "0737.jpg\n",
      "0738.jpg\n",
      "0739.jpg\n",
      "0740.jpg\n",
      "0741.jpg\n",
      "0742.jpg\n",
      "0743.jpg\n",
      "0744.jpg\n",
      "0745.jpg\n",
      "5\n",
      "746.jpg\n",
      "747.jpg\n",
      "748.jpg\n",
      "749.jpg\n",
      "750.jpg\n",
      "751.jpg\n",
      "752.jpg\n",
      "753.jpg\n",
      "754.jpg\n",
      "755.jpg\n",
      "756.jpg\n",
      "757.jpg\n",
      "758.jpg\n",
      "759.jpg\n",
      "760.jpg\n",
      "761.jpg\n",
      "762.jpg\n",
      "763.jpg\n",
      "764.jpg\n",
      "765.jpg\n",
      "766.jpg\n",
      "767.jpg\n",
      "768.jpg\n",
      "769.jpg\n",
      "770.jpg\n",
      "771.jpg\n",
      "772.jpg\n",
      "773.jpg\n",
      "774.jpg\n",
      "775.jpg\n",
      "776.jpg\n",
      "777.jpg\n",
      "778.jpg\n",
      "779.jpg\n",
      "780.jpg\n",
      "781.jpg\n",
      "782.jpg\n",
      "783.jpg\n",
      "784.jpg\n",
      "785.jpg\n",
      "786.jpg\n",
      "787.jpg\n",
      "788.jpg\n",
      "789.jpg\n",
      "790.jpg\n",
      "791.jpg\n",
      "792.jpg\n",
      "793.jpg\n",
      "794.jpg\n",
      "795.jpg\n",
      "796.jpg\n",
      "797.jpg\n",
      "798.jpg\n",
      "799.jpg\n",
      "800.jpg\n",
      "801.jpg\n",
      "802.jpg\n",
      "803.jpg\n",
      "804.jpg\n",
      "805.jpg\n",
      "806.jpg\n",
      "807.jpg\n",
      "808.jpg\n",
      "809.jpg\n",
      "810.jpg\n",
      "811.jpg\n",
      "812.jpg\n",
      "813.jpg\n",
      "814.jpg\n",
      "815.jpg\n",
      "816.jpg\n",
      "817.jpg\n",
      "818.jpg\n",
      "819.jpg\n",
      "820.jpg\n",
      "821.jpg\n",
      "822.jpg\n",
      "823.jpg\n",
      "824.jpg\n",
      "825.jpg\n",
      "826.jpg\n",
      "827.jpg\n",
      "828.jpg\n",
      "829.jpg\n",
      "830.jpg\n",
      "831.jpg\n",
      "832.jpg\n",
      "833.jpg\n",
      "834.jpg\n",
      "835.jpg\n",
      "836.jpg\n",
      "837.jpg\n",
      "838.jpg\n",
      "839.jpg\n",
      "840.jpg\n",
      "841.jpg\n",
      "842.jpg\n",
      "843.jpg\n",
      "844.jpg\n",
      "845.jpg\n",
      "846.jpg\n",
      "847.jpg\n",
      "848.jpg\n",
      "849.jpg\n",
      "850.jpg\n",
      "851.jpg\n",
      "852.jpg\n",
      "853.jpg\n",
      "854.jpg\n",
      "855.jpg\n",
      "856.jpg\n",
      "857.jpg\n",
      "858.jpg\n",
      "859.jpg\n",
      "860.jpg\n",
      "861.jpg\n",
      "862.jpg\n",
      "863.jpg\n",
      "864.jpg\n",
      "865.jpg\n",
      "866.jpg\n",
      "867.jpg\n",
      "868.jpg\n",
      "869.jpg\n",
      "870.jpg\n",
      "871.jpg\n",
      "872.jpg\n",
      "873.jpg\n",
      "874.jpg\n",
      "875.jpg\n",
      "876.jpg\n",
      "877.jpg\n",
      "878.jpg\n",
      "879.jpg\n",
      "880.jpg\n",
      "881.jpg\n",
      "882.jpg\n",
      "883.jpg\n",
      "884.jpg\n",
      "885.jpg\n",
      "886.jpg\n",
      "887.jpg\n",
      "888.jpg\n",
      "889.jpg\n",
      "890.jpg\n",
      "891.jpg\n",
      "892.jpg\n",
      "893.jpg\n",
      "894.jpg\n",
      "895.jpg\n",
      "896.jpg\n",
      "897.jpg\n",
      "898.jpg\n",
      "899.jpg\n",
      "900.jpg\n",
      "901.jpg\n",
      "902.jpg\n",
      "903.jpg\n",
      "904.jpg\n",
      "905.jpg\n",
      "906.jpg\n",
      "907.jpg\n",
      "908.jpg\n",
      "909.jpg\n",
      "910.jpg\n",
      "911.jpg\n",
      "912.jpg\n",
      "913.jpg\n",
      "914.jpg\n",
      "915.jpg\n",
      "916.jpg\n",
      "917.jpg\n",
      "918.jpg\n",
      "919.jpg\n",
      "920.jpg\n",
      "921.jpg\n",
      "922.jpg\n",
      "923.jpg\n",
      "924.jpg\n",
      "925.jpg\n",
      "926.jpg\n",
      "927.jpg\n",
      "928.jpg\n",
      "929.jpg\n",
      "930.jpg\n",
      "931.jpg\n",
      "932.jpg\n",
      "933.jpg\n",
      "934.jpg\n",
      "935.jpg\n",
      "936.jpg\n",
      "937.jpg\n",
      "938.jpg\n",
      "939.jpg\n",
      "940.jpg\n",
      "6\n",
      "0941.jpg\n",
      "0942.jpg\n",
      "0943.jpg\n",
      "0944.jpg\n",
      "0945.jpg\n",
      "0946.jpg\n",
      "0947.jpg\n",
      "0948.jpg\n",
      "0949.jpg\n",
      "0950.jpg\n",
      "0951.jpg\n",
      "0952.jpg\n",
      "0953.jpg\n",
      "0954.jpg\n",
      "0955.jpg\n",
      "0956.jpg\n",
      "0957.jpg\n",
      "0958.jpg\n",
      "0959.jpg\n",
      "0960.jpg\n",
      "0961.jpg\n",
      "0962.jpg\n",
      "0963.jpg\n",
      "0964.jpg\n",
      "0965.jpg\n",
      "0966.jpg\n",
      "0967.jpg\n",
      "0968.jpg\n",
      "0969.jpg\n",
      "0970.jpg\n",
      "0971.jpg\n",
      "0972.jpg\n",
      "0973.jpg\n",
      "0974.jpg\n",
      "0975.jpg\n",
      "0976.jpg\n",
      "0977.jpg\n",
      "0978.jpg\n",
      "0979.jpg\n",
      "0980.jpg\n",
      "0981.jpg\n",
      "0982.jpg\n",
      "0983.jpg\n",
      "0984.jpg\n",
      "0985.jpg\n",
      "0986.jpg\n",
      "0987.jpg\n",
      "0988.jpg\n",
      "0989.jpg\n",
      "0990.jpg\n",
      "0991.jpg\n",
      "0992.jpg\n",
      "0993.jpg\n",
      "0994.jpg\n",
      "0995.jpg\n",
      "0996.jpg\n",
      "0997.jpg\n",
      "0998.jpg\n",
      "0999.jpg\n",
      "1000.jpg\n",
      "1001.jpg\n",
      "1002.jpg\n",
      "1003.jpg\n"
     ]
    },
    {
     "name": "stdout",
     "output_type": "stream",
     "text": [
      "1004.jpg\n",
      "1005.jpg\n",
      "1006.jpg\n",
      "1007.jpg\n",
      "1008.jpg\n",
      "1009.jpg\n",
      "1010.jpg\n",
      "1011.jpg\n",
      "1012.jpg\n",
      "1013.jpg\n",
      "1014.jpg\n",
      "1015.jpg\n",
      "1016.jpg\n",
      "1017.jpg\n",
      "1018.jpg\n",
      "1019.jpg\n",
      "1020.jpg\n",
      "1021.jpg\n",
      "1022.jpg\n",
      "1023.jpg\n",
      "1024.jpg\n",
      "1025.jpg\n",
      "1026.jpg\n",
      "1027.jpg\n",
      "1028.jpg\n",
      "1029.jpg\n",
      "1030.jpg\n",
      "1031.jpg\n",
      "1032.jpg\n",
      "1033.jpg\n",
      "1034.jpg\n",
      "1035.jpg\n",
      "1036.jpg\n",
      "1037.jpg\n",
      "1038.jpg\n",
      "1039.jpg\n",
      "1040.jpg\n",
      "1041.jpg\n",
      "1042.jpg\n",
      "1043.jpg\n",
      "1044.jpg\n",
      "1045.jpg\n",
      "1046.jpg\n",
      "1047.jpg\n",
      "1048.jpg\n",
      "1049.jpg\n",
      "1050.jpg\n",
      "1051.jpg\n",
      "1052.jpg\n",
      "1053.jpg\n",
      "1054.jpg\n",
      "1055.jpg\n",
      "1056.jpg\n",
      "1057.jpg\n",
      "1058.jpg\n",
      "1059.jpg\n",
      "1060.jpg\n",
      "1061.jpg\n",
      "1062.jpg\n",
      "1063.jpg\n",
      "1064.jpg\n",
      "1065.jpg\n",
      "1066.jpg\n",
      "1067.jpg\n",
      "1068.jpg\n",
      "1069.jpg\n",
      "1070.jpg\n",
      "1071.jpg\n",
      "1072.jpg\n",
      "1073.jpg\n",
      "1074.jpg\n",
      "1075.jpg\n",
      "1076.jpg\n",
      "1077.jpg\n",
      "1078.jpg\n",
      "1079.jpg\n",
      "1080.jpg\n",
      "1081.jpg\n",
      "1082.jpg\n",
      "1083.jpg\n",
      "1084.jpg\n",
      "1085.jpg\n",
      "1086.jpg\n",
      "1087.jpg\n",
      "1088.jpg\n",
      "1089.jpg\n",
      "1090.jpg\n",
      "1091.jpg\n",
      "1092.jpg\n",
      "1093.jpg\n",
      "1094.jpg\n",
      "1095.jpg\n",
      "1096.jpg\n",
      "1097.jpg\n",
      "1098.jpg\n",
      "1099.jpg\n",
      "1100.jpg\n",
      "1101.jpg\n",
      "1102.jpg\n",
      "1103.jpg\n",
      "1104.jpg\n",
      "1105.jpg\n",
      "1106.jpg\n",
      "1107.jpg\n",
      "1108.jpg\n",
      "1109.jpg\n",
      "1110.jpg\n",
      "1111.jpg\n",
      "1112.jpg\n",
      "1113.jpg\n",
      "1114.jpg\n",
      "1115.jpg\n",
      "1116.jpg\n",
      "1117.jpg\n",
      "1118.jpg\n",
      "1119.jpg\n",
      "1120.jpg\n",
      "7\n",
      "1121.jpg\n",
      "1122.jpg\n",
      "1123.jpg\n",
      "1124.jpg\n",
      "1125.jpg\n",
      "1126.jpg\n",
      "1127.jpg\n",
      "1128.jpg\n",
      "1129.jpg\n",
      "1130.jpg\n",
      "1131.jpg\n",
      "1132.jpg\n",
      "1133.jpg\n",
      "1134.jpg\n",
      "1135.jpg\n",
      "1136.jpg\n",
      "1137.jpg\n",
      "1138.jpg\n",
      "1139.jpg\n",
      "1140.jpg\n",
      "1141.jpg\n",
      "1142.jpg\n",
      "1143.jpg\n",
      "1144.jpg\n",
      "1145.jpg\n",
      "1146.jpg\n",
      "1147.jpg\n",
      "1148.jpg\n",
      "1149.jpg\n",
      "1150.jpg\n",
      "1151.jpg\n",
      "1152.jpg\n",
      "1153.jpg\n",
      "1154.jpg\n",
      "1155.jpg\n",
      "1156.jpg\n",
      "1157.jpg\n",
      "1158.jpg\n",
      "1159.jpg\n",
      "1160.jpg\n",
      "1161.jpg\n",
      "1162.jpg\n",
      "1163.jpg\n",
      "1164.jpg\n",
      "1165.jpg\n",
      "1166.jpg\n",
      "1167.jpg\n",
      "1168.jpg\n",
      "1169.jpg\n",
      "1170.jpg\n",
      "1171.jpg\n",
      "1172.jpg\n",
      "1173.jpg\n",
      "1174.jpg\n",
      "1175.jpg\n",
      "1176.jpg\n",
      "1177.jpg\n",
      "1178.jpg\n",
      "1179.jpg\n",
      "1180.jpg\n",
      "1181.jpg\n",
      "1182.jpg\n",
      "1183.jpg\n",
      "1184.jpg\n",
      "1185.jpg\n",
      "1186.jpg\n",
      "1187.jpg\n",
      "1188.jpg\n",
      "1189.jpg\n",
      "1190.jpg\n",
      "1191.jpg\n",
      "1192.jpg\n",
      "1193.jpg\n",
      "1194.jpg\n",
      "1195.jpg\n",
      "1196.jpg\n",
      "1197.jpg\n",
      "1198.jpg\n",
      "1199.jpg\n",
      "1200.jpg\n",
      "1201.jpg\n",
      "1202.jpg\n",
      "1203.jpg\n",
      "1204.jpg\n",
      "1205.jpg\n",
      "1206.jpg\n",
      "1207.jpg\n",
      "1208.jpg\n",
      "1209.jpg\n",
      "1210.jpg\n",
      "1211.jpg\n",
      "1212.jpg\n",
      "1213.jpg\n",
      "1214.jpg\n",
      "1215.jpg\n",
      "1216.jpg\n",
      "1217.jpg\n",
      "1218.jpg\n",
      "1219.jpg\n",
      "1220.jpg\n",
      "1221.jpg\n",
      "1222.jpg\n",
      "1223.jpg\n",
      "1224.jpg\n",
      "1225.jpg\n",
      "1226.jpg\n",
      "1227.jpg\n",
      "1228.jpg\n",
      "1229.jpg\n",
      "1230.jpg\n",
      "1231.jpg\n",
      "1232.jpg\n",
      "1233.jpg\n",
      "1234.jpg\n",
      "1235.jpg\n",
      "1236.jpg\n",
      "1237.jpg\n",
      "1238.jpg\n",
      "1239.jpg\n",
      "1240.jpg\n",
      "1241.jpg\n",
      "1242.jpg\n",
      "1243.jpg\n",
      "1244.jpg\n",
      "1245.jpg\n",
      "1246.jpg\n",
      "1247.jpg\n",
      "1248.jpg\n",
      "1249.jpg\n",
      "1250.jpg\n",
      "1251.jpg\n",
      "1252.jpg\n",
      "1253.jpg\n",
      "1254.jpg\n",
      "1255.jpg\n",
      "1256.jpg\n",
      "1257.jpg\n",
      "1258.jpg\n",
      "1259.jpg\n",
      "1260.jpg\n",
      "1261.jpg\n",
      "1262.jpg\n",
      "1263.jpg\n",
      "1264.jpg\n",
      "1265.jpg\n",
      "1266.jpg\n",
      "1267.jpg\n",
      "1268.jpg\n",
      "1269.jpg\n",
      "1270.jpg\n",
      "1271.jpg\n",
      "1272.jpg\n",
      "1273.jpg\n",
      "1274.jpg\n",
      "1275.jpg\n",
      "1276.jpg\n",
      "1277.jpg\n",
      "1278.jpg\n",
      "1279.jpg\n",
      "1280.jpg\n",
      "1281.jpg\n",
      "1282.jpg\n",
      "1283.jpg\n",
      "1284.jpg\n",
      "1285.jpg\n",
      "1286.jpg\n",
      "1287.jpg\n",
      "1288.jpg\n",
      "1289.jpg\n",
      "1290.jpg\n",
      "1291.jpg\n",
      "1292.jpg\n",
      "1293.jpg\n",
      "1294.jpg\n",
      "1295.jpg\n",
      "1296.jpg\n",
      "1297.jpg\n",
      "1298.jpg\n",
      "1299.jpg\n",
      "1300.jpg\n",
      "1301.jpg\n",
      "1302.jpg\n",
      "1303.jpg\n",
      "1304.jpg\n",
      "1305.jpg\n",
      "8\n",
      "1306.jpg\n",
      "1307.jpg\n",
      "1308.jpg\n",
      "1309.jpg\n",
      "1310.jpg\n",
      "1311.jpg\n",
      "1312.jpg\n",
      "1313.jpg\n",
      "1314.jpg\n",
      "1315.jpg\n",
      "1316.jpg\n",
      "1317.jpg\n",
      "1318.jpg\n",
      "1319.jpg\n",
      "1320.jpg\n",
      "1321.jpg\n",
      "1322.jpg\n",
      "1323.jpg\n",
      "1324.jpg\n",
      "1325.jpg\n",
      "1326.jpg\n",
      "1327.jpg\n",
      "1328.jpg\n",
      "1329.jpg\n",
      "1330.jpg\n",
      "1331.jpg\n",
      "1332.jpg\n",
      "1333.jpg\n",
      "1334.jpg\n",
      "1335.jpg\n",
      "1336.jpg\n",
      "1337.jpg\n",
      "1338.jpg\n",
      "1339.jpg\n",
      "1340.jpg\n",
      "1341.jpg\n",
      "1342.jpg\n",
      "1343.jpg\n",
      "1344.jpg\n",
      "1345.jpg\n",
      "1346.jpg\n",
      "1347.jpg\n",
      "1348.jpg\n",
      "1349.jpg\n",
      "1350.jpg\n",
      "1351.jpg\n",
      "1352.jpg\n",
      "1353.jpg\n",
      "1354.jpg\n",
      "1355.jpg\n",
      "1356.jpg\n",
      "1357.jpg\n",
      "1358.jpg\n",
      "1359.jpg\n",
      "1360.jpg\n",
      "1361.jpg\n",
      "1362.jpg\n",
      "1363.jpg\n",
      "1364.jpg\n",
      "1365.jpg\n",
      "1366.jpg\n",
      "1367.jpg\n",
      "1368.jpg\n",
      "1369.jpg\n",
      "1370.jpg\n",
      "1371.jpg\n",
      "1372.jpg\n",
      "1373.jpg\n",
      "1374.jpg\n",
      "1375.jpg\n",
      "1376.jpg\n",
      "1377.jpg\n",
      "1378.jpg\n",
      "1379.jpg\n",
      "1380.jpg\n",
      "1381.jpg\n",
      "1382.jpg\n",
      "1383.jpg\n",
      "1384.jpg\n",
      "1385.jpg\n",
      "1386.jpg\n",
      "1387.jpg\n",
      "1388.jpg\n",
      "1389.jpg\n",
      "1390.jpg\n",
      "1391.jpg\n",
      "1392.jpg\n",
      "1393.jpg\n",
      "1394.jpg\n",
      "1395.jpg\n",
      "1396.jpg\n",
      "1397.jpg\n",
      "1398.jpg\n",
      "1399.jpg\n",
      "1400.jpg\n",
      "1401.jpg\n",
      "1402.jpg\n",
      "1403.jpg\n",
      "1404.jpg\n",
      "1405.jpg\n",
      "1406.jpg\n",
      "1407.jpg\n",
      "1408.jpg\n",
      "1409.jpg\n",
      "1410.jpg\n",
      "1411.jpg\n",
      "1412.jpg\n",
      "1413.jpg\n",
      "1414.jpg\n",
      "1415.jpg\n",
      "1416.jpg\n",
      "1417.jpg\n",
      "1418.jpg\n",
      "1419.jpg\n",
      "1420.jpg\n",
      "1421.jpg\n",
      "1422.jpg\n",
      "1423.jpg\n",
      "1424.jpg\n",
      "1425.jpg\n",
      "1426.jpg\n",
      "1427.jpg\n",
      "1428.jpg\n",
      "1429.jpg\n",
      "1430.jpg\n",
      "1431.jpg\n",
      "1432.jpg\n",
      "1433.jpg\n",
      "1434.jpg\n",
      "1435.jpg\n",
      "1436.jpg\n",
      "1437.jpg\n",
      "1438.jpg\n",
      "1439.jpg\n",
      "1440.jpg\n",
      "1441.jpg\n",
      "1442.jpg\n",
      "1443.jpg\n",
      "1444.jpg\n",
      "1445.jpg\n",
      "1446.jpg\n",
      "1447.jpg\n",
      "1448.jpg\n",
      "1449.jpg\n",
      "1450.jpg\n",
      "1451.jpg\n",
      "1452.jpg\n",
      "1453.jpg\n",
      "1454.jpg\n",
      "1455.jpg\n",
      "1456.jpg\n",
      "1457.jpg\n",
      "1458.jpg\n",
      "1459.jpg\n",
      "1460.jpg\n",
      "1461.jpg\n",
      "1462.jpg\n",
      "1463.jpg\n",
      "1464.jpg\n",
      "1465.jpg\n",
      "1466.jpg\n",
      "1467.jpg\n",
      "1468.jpg\n",
      "1469.jpg\n",
      "1470.jpg\n",
      "1471.jpg\n",
      "1472.jpg\n",
      "1473.jpg\n",
      "1474.jpg\n",
      "1475.jpg\n",
      "1476.jpg\n",
      "1477.jpg\n",
      "1478.jpg\n",
      "1479.jpg\n",
      "1480.jpg\n",
      "1481.jpg\n",
      "1482.jpg\n",
      "1483.jpg\n",
      "1484.jpg\n",
      "1485.jpg\n",
      "1486.jpg\n",
      "1487.jpg\n",
      "1488.jpg\n",
      "1489.jpg\n",
      "1490.jpg\n",
      "1491.jpg\n",
      "1492.jpg\n",
      "1493.jpg\n",
      "1494.jpg\n",
      "1495.jpg\n",
      "9\n",
      "1496.jpg\n",
      "1497.jpg\n",
      "1498.jpg\n",
      "1499.jpg\n",
      "1500.jpg\n",
      "1501.jpg\n",
      "1502.jpg\n",
      "1503.jpg\n",
      "1504.jpg\n",
      "1505.jpg\n",
      "1506.jpg\n",
      "1507.jpg\n",
      "1508.jpg\n",
      "1509.jpg\n",
      "1510.jpg\n",
      "1511.jpg\n",
      "1512.jpg\n",
      "1513.jpg\n",
      "1514.jpg\n",
      "1515.jpg\n",
      "1516.jpg\n",
      "1517.jpg\n",
      "1518.jpg\n",
      "1519.jpg\n",
      "1520.jpg\n",
      "1521.jpg\n",
      "1522.jpg\n",
      "1523.jpg\n",
      "1524.jpg\n",
      "1525.jpg\n",
      "1526.jpg\n",
      "1527.jpg\n",
      "1528.jpg\n",
      "1529.jpg\n",
      "1530.jpg\n",
      "1531.jpg\n",
      "1532.jpg\n",
      "1533.jpg\n",
      "1534.jpg\n",
      "1535.jpg\n",
      "1536.jpg\n",
      "1537.jpg\n",
      "1538.jpg\n",
      "1539.jpg\n",
      "1540.jpg\n",
      "1541.jpg\n",
      "1542.jpg\n",
      "1543.jpg\n",
      "1544.jpg\n",
      "1545.jpg\n",
      "1546.jpg\n",
      "1547.jpg\n",
      "1548.jpg\n",
      "1549.jpg\n",
      "1550.jpg\n",
      "1551.jpg\n",
      "1552.jpg\n",
      "1553.jpg\n",
      "1554.jpg\n",
      "1555.jpg\n",
      "1556.jpg\n",
      "1557.jpg\n",
      "1558.jpg\n",
      "1559.jpg\n",
      "1560.jpg\n",
      "1561.jpg\n",
      "1562.jpg\n",
      "1563.jpg\n",
      "1564.jpg\n",
      "1565.jpg\n",
      "1566.jpg\n",
      "1567.jpg\n",
      "1568.jpg\n",
      "1569.jpg\n",
      "1570.jpg\n",
      "1571.jpg\n",
      "1572.jpg\n",
      "1573.jpg\n",
      "1574.jpg\n",
      "1575.jpg\n",
      "1576.jpg\n",
      "1577.jpg\n",
      "1578.jpg\n",
      "1579.jpg\n",
      "1580.jpg\n",
      "1581.jpg\n",
      "1582.jpg\n",
      "1583.jpg\n",
      "1584.jpg\n",
      "1585.jpg\n",
      "1586.jpg\n",
      "1587.jpg\n",
      "1588.jpg\n",
      "1589.jpg\n",
      "1590.jpg\n",
      "1591.jpg\n",
      "1592.jpg\n",
      "1593.jpg\n",
      "1594.jpg\n",
      "1595.jpg\n",
      "1596.jpg\n",
      "1597.jpg\n",
      "1598.jpg\n",
      "1599.jpg\n",
      "1600.jpg\n",
      "1601.jpg\n",
      "1602.jpg\n",
      "1603.jpg\n",
      "1604.jpg\n",
      "1605.jpg\n",
      "1606.jpg\n",
      "1607.jpg\n",
      "1608.jpg\n",
      "1609.jpg\n",
      "1610.jpg\n",
      "1611.jpg\n",
      "1612.jpg\n",
      "1613.jpg\n",
      "1614.jpg\n",
      "1615.jpg\n",
      "1616.jpg\n",
      "1617.jpg\n",
      "1618.jpg\n",
      "1619.jpg\n",
      "1620.jpg\n",
      "1621.jpg\n",
      "1622.jpg\n",
      "1623.jpg\n",
      "1624.jpg\n",
      "1625.jpg\n",
      "1626.jpg\n",
      "1627.jpg\n",
      "1628.jpg\n",
      "1629.jpg\n",
      "1630.jpg\n",
      "1631.jpg\n",
      "1632.jpg\n",
      "1633.jpg\n",
      "1634.jpg\n",
      "1635.jpg\n",
      "1636.jpg\n",
      "1637.jpg\n",
      "1638.jpg\n",
      "1639.jpg\n",
      "1640.jpg\n",
      "1641.jpg\n",
      "1642.jpg\n",
      "1643.jpg\n",
      "1644.jpg\n",
      "1645.jpg\n",
      "1646.jpg\n",
      "1647.jpg\n",
      "1648.jpg\n",
      "1649.jpg\n",
      "1650.jpg\n",
      "1651.jpg\n",
      "1652.jpg\n",
      "1653.jpg\n",
      "1654.jpg\n",
      "1655.jpg\n",
      "1656.jpg\n",
      "1657.jpg\n",
      "1658.jpg\n",
      "1659.jpg\n",
      "1660.jpg\n",
      "1661.jpg\n",
      "1662.jpg\n",
      "1663.jpg\n",
      "1664.jpg\n",
      "1665.jpg\n",
      "1666.jpg\n",
      "1667.jpg\n",
      "1668.jpg\n",
      "1669.jpg\n",
      "1670.jpg\n",
      "1671.jpg\n",
      "1672.jpg\n",
      "1673.jpg\n",
      "1674.jpg\n",
      "1675.jpg\n",
      "1676.jpg\n",
      "1677.jpg\n",
      "1678.jpg\n",
      "1679.jpg\n",
      "1680.jpg\n",
      "1681.jpg\n",
      "1682.jpg\n",
      "1683.jpg\n",
      "1684.jpg\n",
      "1685.jpg\n"
     ]
    },
    {
     "name": "stderr",
     "output_type": "stream",
     "text": [
      "<ipython-input-1330-356b9b3c7f89>:14: VisibleDeprecationWarning: Creating an ndarray from ragged nested sequences (which is a list-or-tuple of lists-or-tuples-or ndarrays with different lengths or shapes) is deprecated. If you meant to do this, you must specify 'dtype=object' when creating the ndarray\n",
      "  X = np.array(X)\n"
     ]
    }
   ],
   "source": [
    "X,y=read_images('ACdata_base')\n"
   ]
  },
  {
   "cell_type": "code",
   "execution_count": 1332,
   "metadata": {},
   "outputs": [
    {
     "data": {
      "image/png": "[encoded data removed]",
      "text/plain": [
       "<Figure size 864x576 with 2 Axes>"
      ]
     },
     "metadata": {
      "needs_background": "light"
     },
     "output_type": "display_data"
    },
    {
     "name": "stdout",
     "output_type": "stream",
     "text": [
      "[[255 255 255 ... 255 255 255]\n",
      " [255 255 255 ... 255 255 255]\n",
      " [255 255 255 ... 255 255 255]\n",
      " ...\n",
      " [255 255 255 ... 255 255 255]\n",
      " [255 255 255 ... 255 255 255]\n",
      " [255 255 255 ... 255 255 255]]\n"
     ]
    }
   ],
   "source": [
    "ret, thresh1 = cv2.threshold(X[0], 120, 255, cv2.THRESH_BINARY + \n",
    "                                            cv2.THRESH_OTSU)\n",
    "show_images([X[0],thresh1])\n",
    "print(thresh1)"
   ]
  },
  {
   "cell_type": "code",
   "execution_count": 1333,
   "metadata": {},
   "outputs": [
    {
     "name": "stdout",
     "output_type": "stream",
     "text": [
      "object\n"
     ]
    }
   ],
   "source": [
    "X=np.array(X)\n",
    "y=np.array(y)\n",
    "print(X.dtype)"
   ]
  },
  {
   "cell_type": "code",
   "execution_count": 1334,
   "metadata": {},
   "outputs": [
    {
     "name": "stdout",
     "output_type": "stream",
     "text": [
      "0.9999999987499999\n",
      "0.0\n",
      "0.0\n",
      "hehhh\n"
     ]
    },
    {
     "data": {
      "image/png": "[encoded data removed]",
      "text/plain": [
       "<Figure size 432x288 with 1 Axes>"
      ]
     },
     "metadata": {
      "needs_background": "light"
     },
     "output_type": "display_data"
    }
   ],
   "source": [
    "show_images([unify(X[0])])"
   ]
  },
  {
   "cell_type": "code",
   "execution_count": 1335,
   "metadata": {},
   "outputs": [
    {
     "data": {
      "text/plain": [
       "<Figure size 0x0 with 0 Axes>"
      ]
     },
     "metadata": {},
     "output_type": "display_data"
    }
   ],
   "source": [
    "show_images([])"
   ]
  },
  {
   "cell_type": "code",
   "execution_count": 1336,
   "metadata": {},
   "outputs": [
    {
     "data": {
      "image/png": "[encoded data removed]",
      "text/plain": [
       "<Figure size 432x288 with 1 Axes>"
      ]
     },
     "metadata": {
      "needs_background": "light"
     },
     "output_type": "display_data"
    }
   ],
   "source": [
    "show_images([cropped_images[750]])"
   ]
  },
  {
   "cell_type": "code",
   "execution_count": 80,
   "metadata": {},
   "outputs": [
    {
     "name": "stdout",
     "output_type": "stream",
     "text": [
      "(216, 700)\n"
     ]
    }
   ],
   "source": [
    "print(X[0].shape)"
   ]
  },
  {
   "cell_type": "code",
   "execution_count": 593,
   "metadata": {},
   "outputs": [],
   "source": [
    "patches_hog_skeleton = np.array([feature.hog(morphology.skeletonize(patch).astype(int),cells_per_block=(2, 2),pixels_per_cell=(120, 120), orientations=9) for patch in resized_cropped_images])"
   ]
  },
  {
   "cell_type": "code",
   "execution_count": null,
   "metadata": {},
   "outputs": [],
   "source": []
  },
  {
   "cell_type": "code",
   "execution_count": 568,
   "metadata": {},
   "outputs": [
    {
     "data": {
      "image/png": "[encoded data removed]",
      "text/plain": [
       "<Figure size 432x288 with 1 Axes>"
      ]
     },
     "metadata": {
      "needs_background": "light"
     },
     "output_type": "display_data"
    }
   ],
   "source": [
    "show_images([morphology.skeletonize(resized_cropped_images[0])])"
   ]
  },
  {
   "cell_type": "code",
   "execution_count": 1338,
   "metadata": {},
   "outputs": [],
   "source": [
    "pre_processed_train=[pre_process(patch.reshape(patch.shape[0],patch.shape[1],1)) for patch in X] # de bet7awel 2el training set le binary fa law feature sha8ala 3ala binary hanesta5dem da\n",
    "#cropped_images=[crop_image(patch.reshape(patch.shape[0],patch.shape[1],1)) for patch in pre_processed_train]\n",
    "#resized_cropped_images=[cv2.resize(np.array(cropped.reshape(cropped.shape[0],cropped.shape[1],1), dtype='uint8'), (500,500), interpolation = cv2.INTER_AREA) for cropped in cropped_images]\n",
    "#resized_images=[cv2.resize(np.array(img.reshape(img.shape[0],img.shape[1],1), dtype='uint8'), (500,500), interpolation = cv2.INTER_AREA) for img in X]\n",
    "#unified=[unify(img) for img in X]"
   ]
  },
  {
   "cell_type": "code",
   "execution_count": 1337,
   "metadata": {},
   "outputs": [
    {
     "data": {
      "image/png": "[encoded data removed]",
      "text/plain": [
       "<Figure size 864x576 with 2 Axes>"
      ]
     },
     "metadata": {
      "needs_background": "light"
     },
     "output_type": "display_data"
    }
   ],
   "source": [
    "show_images([pre_process(X[0]),X[0]])"
   ]
  },
  {
   "cell_type": "code",
   "execution_count": 219,
   "metadata": {},
   "outputs": [
    {
     "name": "stdout",
     "output_type": "stream",
     "text": [
      "[[[0]\n",
      "  [0]\n",
      "  [0]\n",
      "  ...\n",
      "  [0]\n",
      "  [0]\n",
      "  [0]]\n",
      "\n",
      " [[0]\n",
      "  [0]\n",
      "  [0]\n",
      "  ...\n",
      "  [0]\n",
      "  [0]\n",
      "  [0]]\n",
      "\n",
      " [[0]\n",
      "  [0]\n",
      "  [0]\n",
      "  ...\n",
      "  [0]\n",
      "  [0]\n",
      "  [0]]\n",
      "\n",
      " ...\n",
      "\n",
      " [[0]\n",
      "  [0]\n",
      "  [0]\n",
      "  ...\n",
      "  [0]\n",
      "  [0]\n",
      "  [0]]\n",
      "\n",
      " [[0]\n",
      "  [0]\n",
      "  [0]\n",
      "  ...\n",
      "  [0]\n",
      "  [0]\n",
      "  [0]]\n",
      "\n",
      " [[0]\n",
      "  [0]\n",
      "  [0]\n",
      "  ...\n",
      "  [0]\n",
      "  [0]\n",
      "  [0]]]\n",
      "(1685, 500, 500)\n"
     ]
    }
   ],
   "source": [
    "print(cropped_images[0])\n",
    "print(np.array(resized_images).shape)"
   ]
  },
  {
   "cell_type": "code",
   "execution_count": 1207,
   "metadata": {},
   "outputs": [],
   "source": [
    "patches_hog = np.array([feature.hog(patch,cells_per_block=(2, 2),pixels_per_cell=(120, 120), orientations=9) for patch in resized_cropped_images])"
   ]
  },
  {
   "cell_type": "code",
   "execution_count": 584,
   "metadata": {},
   "outputs": [],
   "source": [
    "patches_hog = np.array([feature.hog(patch,cells_per_block=(2, 2),pixels_per_cell=(120, 120), orientations=9) for patch in resized_images])"
   ]
  },
  {
   "cell_type": "code",
   "execution_count": 666,
   "metadata": {},
   "outputs": [
    {
     "data": {
      "image/png": "[encoded data removed]",
      "text/plain": [
       "<Figure size 864x576 with 2 Axes>"
      ]
     },
     "metadata": {
      "needs_background": "light"
     },
     "output_type": "display_data"
    },
    {
     "name": "stdout",
     "output_type": "stream",
     "text": [
      "(36450,)\n"
     ]
    },
    {
     "data": {
      "image/png": "[encoded data removed]",
      "text/plain": [
       "<Figure size 432x288 with 1 Axes>"
      ]
     },
     "metadata": {
      "needs_background": "light"
     },
     "output_type": "display_data"
    }
   ],
   "source": [
    "x,hog_image=feature.hog(pre_processed_train[1507],visualize=True)\n",
    "show_images([pre_processed_train[1507],cropped_images[1507]])\n",
    "plt.axis(\"off\")\n",
    "plt.imshow(hog_image, cmap=\"gray\")\n",
    "print(x.shape)"
   ]
  },
  {
   "cell_type": "code",
   "execution_count": 570,
   "metadata": {},
   "outputs": [
    {
     "name": "stdout",
     "output_type": "stream",
     "text": [
      "[0.4304978  0.06761119 0.15025486 0.4304978  0.16033509 0.08468908\n",
      " 0.4304978  0.33322654 0.13386342 0.4304978  0.13522237 0.22674825\n",
      " 0.44778204 0.14754353 0.07793258 0.44778204 0.08532638 0.15712217\n",
      " 0.44778204 0.12443431 0.20865824 0.44778204 0.1564317  0.23379779\n",
      " 0.43888937 0.07618107 0.14028176 0.43888937 0.06745199 0.09875834\n",
      " 0.43888937 0.13966529 0.20873925 0.43888937 0.27615636 0.22445082]\n"
     ]
    }
   ],
   "source": [
    "print(patches_hog[1])"
   ]
  },
  {
   "cell_type": "code",
   "execution_count": 555,
   "metadata": {},
   "outputs": [
    {
     "name": "stdout",
     "output_type": "stream",
     "text": [
      "(1685, 60)\n"
     ]
    }
   ],
   "source": [
    "print(patches_hog.shape)"
   ]
  },
  {
   "cell_type": "code",
   "execution_count": 143,
   "metadata": {},
   "outputs": [
    {
     "name": "stdout",
     "output_type": "stream",
     "text": [
      "[[[False]\n",
      "  [False]\n",
      "  [False]\n",
      "  ...\n",
      "  [False]\n",
      "  [False]\n",
      "  [False]]\n",
      "\n",
      " [[False]\n",
      "  [False]\n",
      "  [False]\n",
      "  ...\n",
      "  [False]\n",
      "  [False]\n",
      "  [False]]\n",
      "\n",
      " [[False]\n",
      "  [False]\n",
      "  [False]\n",
      "  ...\n",
      "  [False]\n",
      "  [False]\n",
      "  [False]]\n",
      "\n",
      " ...\n",
      "\n",
      " [[False]\n",
      "  [False]\n",
      "  [False]\n",
      "  ...\n",
      "  [False]\n",
      "  [False]\n",
      "  [False]]\n",
      "\n",
      " [[False]\n",
      "  [False]\n",
      "  [False]\n",
      "  ...\n",
      "  [False]\n",
      "  [False]\n",
      "  [False]]\n",
      "\n",
      " [[False]\n",
      "  [False]\n",
      "  [False]\n",
      "  ...\n",
      "  [False]\n",
      "  [False]\n",
      "  [False]]]\n",
      "1\n"
     ]
    }
   ],
   "source": [
    "print(crop_image(pre_processed_train[0]).max())"
   ]
  },
  {
   "cell_type": "code",
   "execution_count": 111,
   "metadata": {},
   "outputs": [
    {
     "name": "stdout",
     "output_type": "stream",
     "text": [
      "hehhh\n"
     ]
    },
    {
     "name": "stderr",
     "output_type": "stream",
     "text": [
      "<ipython-input-108-aff9d5c4090b>:3: RuntimeWarning: overflow encountered in ubyte_scalars\n",
      "  color=(np.max(x)+np.min(x))/2\n"
     ]
    },
    {
     "data": {
      "text/plain": [
       "0"
      ]
     },
     "execution_count": 111,
     "metadata": {},
     "output_type": "execute_result"
    }
   ],
   "source": [
    "pre_process(X[0].reshape(X[0].shape[0],X[0].shape[1],1)).max()"
   ]
  },
  {
   "cell_type": "code",
   "execution_count": 112,
   "metadata": {},
   "outputs": [
    {
     "data": {
      "text/plain": [
       "array([[189, 189, 190, ..., 197, 196, 195],\n",
       "       [188, 188, 189, ..., 197, 196, 195],\n",
       "       [186, 187, 188, ..., 197, 196, 195],\n",
       "       ...,\n",
       "       [172, 175, 178, ..., 182, 181, 180],\n",
       "       [173, 175, 179, ..., 183, 183, 182],\n",
       "       [173, 176, 179, ..., 184, 183, 182]], dtype=uint8)"
      ]
     },
     "execution_count": 112,
     "metadata": {},
     "output_type": "execute_result"
    }
   ],
   "source": [
    "X[0]"
   ]
  },
  {
   "cell_type": "code",
   "execution_count": 139,
   "metadata": {},
   "outputs": [
    {
     "name": "stdout",
     "output_type": "stream",
     "text": [
      "216\n",
      "71\n",
      "143.5\n",
      "hehhh\n"
     ]
    },
    {
     "data": {
      "text/plain": [
       "array([[[0],\n",
       "        [0],\n",
       "        [0],\n",
       "        ...,\n",
       "        [0],\n",
       "        [0],\n",
       "        [0]],\n",
       "\n",
       "       [[0],\n",
       "        [0],\n",
       "        [0],\n",
       "        ...,\n",
       "        [0],\n",
       "        [0],\n",
       "        [0]],\n",
       "\n",
       "       [[0],\n",
       "        [0],\n",
       "        [0],\n",
       "        ...,\n",
       "        [0],\n",
       "        [0],\n",
       "        [0]],\n",
       "\n",
       "       ...,\n",
       "\n",
       "       [[0],\n",
       "        [0],\n",
       "        [0],\n",
       "        ...,\n",
       "        [0],\n",
       "        [0],\n",
       "        [0]],\n",
       "\n",
       "       [[0],\n",
       "        [0],\n",
       "        [0],\n",
       "        ...,\n",
       "        [0],\n",
       "        [0],\n",
       "        [0]],\n",
       "\n",
       "       [[0],\n",
       "        [0],\n",
       "        [0],\n",
       "        ...,\n",
       "        [0],\n",
       "        [0],\n",
       "        [0]]])"
      ]
     },
     "execution_count": 139,
     "metadata": {},
     "output_type": "execute_result"
    }
   ],
   "source": [
    "pre_process(X[0].reshape(X[0].shape[0],X[0].shape[1],1))"
   ]
  },
  {
   "cell_type": "code",
   "execution_count": 1339,
   "metadata": {},
   "outputs": [],
   "source": [
    "#LPQ=[lpq(img.reshape(img.shape[0],img.shape[1]),winSize=11) for img in cropped_images]\n",
    "LPQ=[lpq(img.reshape(img.shape[0],img.shape[1]),winSize=11) for img in pre_processed_train]"
   ]
  },
  {
   "cell_type": "code",
   "execution_count": 653,
   "metadata": {},
   "outputs": [],
   "source": [
    "GLCM=np.array([GLCM_features(img.reshape(img.shape[0],img.shape[1])) for img in pre_processed_train]).reshape(-1,16)"
   ]
  },
  {
   "cell_type": "code",
   "execution_count": 536,
   "metadata": {},
   "outputs": [
    {
     "name": "stderr",
     "output_type": "stream",
     "text": [
      "D:\\Aya\\2021fall\\Pattern\\New folder\\Arabic-Caligraphy-Font-Identification\\feature_extraction.py:30: RuntimeWarning: invalid value encountered in true_divide\n",
      "  filtered=filtered/np.max(filtered)\n"
     ]
    },
    {
     "ename": "KeyboardInterrupt",
     "evalue": "",
     "output_type": "error",
     "traceback": [
      "\u001b[1;31m---------------------------------------------------------------------------\u001b[0m",
      "\u001b[1;31mKeyboardInterrupt\u001b[0m                         Traceback (most recent call last)",
      "\u001b[1;32m<ipython-input-536-c48e2c423270>\u001b[0m in \u001b[0;36m<module>\u001b[1;34m\u001b[0m\n\u001b[1;32m----> 1\u001b[1;33m \u001b[0mGABOR\u001b[0m\u001b[1;33m=\u001b[0m\u001b[0mnp\u001b[0m\u001b[1;33m.\u001b[0m\u001b[0marray\u001b[0m\u001b[1;33m(\u001b[0m\u001b[1;33m[\u001b[0m\u001b[0mgabor_filter\u001b[0m\u001b[1;33m(\u001b[0m\u001b[0mimg\u001b[0m\u001b[1;33m.\u001b[0m\u001b[0mreshape\u001b[0m\u001b[1;33m(\u001b[0m\u001b[0mimg\u001b[0m\u001b[1;33m.\u001b[0m\u001b[0mshape\u001b[0m\u001b[1;33m[\u001b[0m\u001b[1;36m0\u001b[0m\u001b[1;33m]\u001b[0m\u001b[1;33m,\u001b[0m\u001b[0mimg\u001b[0m\u001b[1;33m.\u001b[0m\u001b[0mshape\u001b[0m\u001b[1;33m[\u001b[0m\u001b[1;36m1\u001b[0m\u001b[1;33m]\u001b[0m\u001b[1;33m)\u001b[0m\u001b[1;33m)\u001b[0m \u001b[1;32mfor\u001b[0m \u001b[0mimg\u001b[0m \u001b[1;32min\u001b[0m \u001b[0mresized_cropped_images\u001b[0m\u001b[1;33m]\u001b[0m\u001b[1;33m)\u001b[0m\u001b[1;33m.\u001b[0m\u001b[0mreshape\u001b[0m\u001b[1;33m(\u001b[0m\u001b[1;33m-\u001b[0m\u001b[1;36m1\u001b[0m\u001b[1;33m,\u001b[0m\u001b[1;36m32\u001b[0m\u001b[1;33m)\u001b[0m\u001b[1;33m\u001b[0m\u001b[1;33m\u001b[0m\u001b[0m\n\u001b[0m",
      "\u001b[1;32m<ipython-input-536-c48e2c423270>\u001b[0m in \u001b[0;36m<listcomp>\u001b[1;34m(.0)\u001b[0m\n\u001b[1;32m----> 1\u001b[1;33m \u001b[0mGABOR\u001b[0m\u001b[1;33m=\u001b[0m\u001b[0mnp\u001b[0m\u001b[1;33m.\u001b[0m\u001b[0marray\u001b[0m\u001b[1;33m(\u001b[0m\u001b[1;33m[\u001b[0m\u001b[0mgabor_filter\u001b[0m\u001b[1;33m(\u001b[0m\u001b[0mimg\u001b[0m\u001b[1;33m.\u001b[0m\u001b[0mreshape\u001b[0m\u001b[1;33m(\u001b[0m\u001b[0mimg\u001b[0m\u001b[1;33m.\u001b[0m\u001b[0mshape\u001b[0m\u001b[1;33m[\u001b[0m\u001b[1;36m0\u001b[0m\u001b[1;33m]\u001b[0m\u001b[1;33m,\u001b[0m\u001b[0mimg\u001b[0m\u001b[1;33m.\u001b[0m\u001b[0mshape\u001b[0m\u001b[1;33m[\u001b[0m\u001b[1;36m1\u001b[0m\u001b[1;33m]\u001b[0m\u001b[1;33m)\u001b[0m\u001b[1;33m)\u001b[0m \u001b[1;32mfor\u001b[0m \u001b[0mimg\u001b[0m \u001b[1;32min\u001b[0m \u001b[0mresized_cropped_images\u001b[0m\u001b[1;33m]\u001b[0m\u001b[1;33m)\u001b[0m\u001b[1;33m.\u001b[0m\u001b[0mreshape\u001b[0m\u001b[1;33m(\u001b[0m\u001b[1;33m-\u001b[0m\u001b[1;36m1\u001b[0m\u001b[1;33m,\u001b[0m\u001b[1;36m32\u001b[0m\u001b[1;33m)\u001b[0m\u001b[1;33m\u001b[0m\u001b[1;33m\u001b[0m\u001b[0m\n\u001b[0m",
      "\u001b[1;32mD:\\Aya\\2021fall\\Pattern\\New folder\\Arabic-Caligraphy-Font-Identification\\feature_extraction.py\u001b[0m in \u001b[0;36mgabor_filter\u001b[1;34m(img)\u001b[0m\n\u001b[0;32m     42\u001b[0m                                               sigma_x=1, sigma_y=1))\n\u001b[0;32m     43\u001b[0m             \u001b[0mkernels\u001b[0m\u001b[1;33m.\u001b[0m\u001b[0mappend\u001b[0m\u001b[1;33m(\u001b[0m\u001b[0mkernel\u001b[0m\u001b[1;33m)\u001b[0m\u001b[1;33m\u001b[0m\u001b[1;33m\u001b[0m\u001b[0m\n\u001b[1;32m---> 44\u001b[1;33m     \u001b[1;32mreturn\u001b[0m \u001b[0mcompute_feats\u001b[0m\u001b[1;33m(\u001b[0m\u001b[0mimg\u001b[0m\u001b[1;33m,\u001b[0m \u001b[0mkernels\u001b[0m\u001b[1;33m)\u001b[0m\u001b[1;33m\u001b[0m\u001b[1;33m\u001b[0m\u001b[0m\n\u001b[0m\u001b[0;32m     45\u001b[0m \u001b[1;33m\u001b[0m\u001b[0m\n\u001b[0;32m     46\u001b[0m \u001b[1;32mdef\u001b[0m \u001b[0mget_max_theta\u001b[0m\u001b[1;33m(\u001b[0m\u001b[0mimg\u001b[0m\u001b[1;33m)\u001b[0m\u001b[1;33m:\u001b[0m\u001b[1;33m\u001b[0m\u001b[1;33m\u001b[0m\u001b[0m\n",
      "\u001b[1;32mD:\\Aya\\2021fall\\Pattern\\New folder\\Arabic-Caligraphy-Font-Identification\\feature_extraction.py\u001b[0m in \u001b[0;36mcompute_feats\u001b[1;34m(image, kernels)\u001b[0m\n\u001b[0;32m     27\u001b[0m     \u001b[0mfeats\u001b[0m \u001b[1;33m=\u001b[0m \u001b[0mnp\u001b[0m\u001b[1;33m.\u001b[0m\u001b[0mzeros\u001b[0m\u001b[1;33m(\u001b[0m\u001b[1;33m(\u001b[0m\u001b[0mlen\u001b[0m\u001b[1;33m(\u001b[0m\u001b[0mkernels\u001b[0m\u001b[1;33m)\u001b[0m\u001b[1;33m,\u001b[0m \u001b[1;36m2\u001b[0m\u001b[1;33m)\u001b[0m\u001b[1;33m,\u001b[0m \u001b[0mdtype\u001b[0m\u001b[1;33m=\u001b[0m\u001b[0mnp\u001b[0m\u001b[1;33m.\u001b[0m\u001b[0mdouble\u001b[0m\u001b[1;33m)\u001b[0m\u001b[1;33m\u001b[0m\u001b[1;33m\u001b[0m\u001b[0m\n\u001b[0;32m     28\u001b[0m     \u001b[1;32mfor\u001b[0m \u001b[0mk\u001b[0m\u001b[1;33m,\u001b[0m \u001b[0mkernel\u001b[0m \u001b[1;32min\u001b[0m \u001b[0menumerate\u001b[0m\u001b[1;33m(\u001b[0m\u001b[0mkernels\u001b[0m\u001b[1;33m)\u001b[0m\u001b[1;33m:\u001b[0m\u001b[1;33m\u001b[0m\u001b[1;33m\u001b[0m\u001b[0m\n\u001b[1;32m---> 29\u001b[1;33m         \u001b[0mfiltered\u001b[0m \u001b[1;33m=\u001b[0m \u001b[0mnd\u001b[0m\u001b[1;33m.\u001b[0m\u001b[0mconvolve\u001b[0m\u001b[1;33m(\u001b[0m\u001b[0mimage\u001b[0m\u001b[1;33m,\u001b[0m \u001b[0mkernel\u001b[0m\u001b[1;33m,\u001b[0m \u001b[0mmode\u001b[0m\u001b[1;33m=\u001b[0m\u001b[1;34m'wrap'\u001b[0m\u001b[1;33m)\u001b[0m\u001b[1;33m\u001b[0m\u001b[1;33m\u001b[0m\u001b[0m\n\u001b[0m\u001b[0;32m     30\u001b[0m         \u001b[0mfiltered\u001b[0m\u001b[1;33m=\u001b[0m\u001b[0mfiltered\u001b[0m\u001b[1;33m/\u001b[0m\u001b[0mnp\u001b[0m\u001b[1;33m.\u001b[0m\u001b[0mmax\u001b[0m\u001b[1;33m(\u001b[0m\u001b[0mfiltered\u001b[0m\u001b[1;33m)\u001b[0m\u001b[1;33m\u001b[0m\u001b[1;33m\u001b[0m\u001b[0m\n\u001b[0;32m     31\u001b[0m         \u001b[0mfeats\u001b[0m\u001b[1;33m[\u001b[0m\u001b[0mk\u001b[0m\u001b[1;33m,\u001b[0m \u001b[1;36m0\u001b[0m\u001b[1;33m]\u001b[0m \u001b[1;33m=\u001b[0m \u001b[0mfiltered\u001b[0m\u001b[1;33m.\u001b[0m\u001b[0mmean\u001b[0m\u001b[1;33m(\u001b[0m\u001b[1;33m)\u001b[0m\u001b[1;33m\u001b[0m\u001b[1;33m\u001b[0m\u001b[0m\n",
      "\u001b[1;32m~\\anaconda3\\lib\\site-packages\\scipy\\ndimage\\filters.py\u001b[0m in \u001b[0;36mconvolve\u001b[1;34m(input, weights, output, mode, cval, origin)\u001b[0m\n\u001b[0;32m    799\u001b[0m \u001b[1;33m\u001b[0m\u001b[0m\n\u001b[0;32m    800\u001b[0m     \"\"\"\n\u001b[1;32m--> 801\u001b[1;33m     return _correlate_or_convolve(input, weights, output, mode, cval,\n\u001b[0m\u001b[0;32m    802\u001b[0m                                   origin, True)\n\u001b[0;32m    803\u001b[0m \u001b[1;33m\u001b[0m\u001b[0m\n",
      "\u001b[1;32m~\\anaconda3\\lib\\site-packages\\scipy\\ndimage\\filters.py\u001b[0m in \u001b[0;36m_correlate_or_convolve\u001b[1;34m(input, weights, output, mode, cval, origin, convolution)\u001b[0m\n\u001b[0;32m    627\u001b[0m         \u001b[1;32mraise\u001b[0m \u001b[0mRuntimeError\u001b[0m\u001b[1;33m(\u001b[0m\u001b[1;34m\"A sequence of modes is not supported\"\u001b[0m\u001b[1;33m)\u001b[0m\u001b[1;33m\u001b[0m\u001b[1;33m\u001b[0m\u001b[0m\n\u001b[0;32m    628\u001b[0m     \u001b[0mmode\u001b[0m \u001b[1;33m=\u001b[0m \u001b[0m_ni_support\u001b[0m\u001b[1;33m.\u001b[0m\u001b[0m_extend_mode_to_code\u001b[0m\u001b[1;33m(\u001b[0m\u001b[0mmode\u001b[0m\u001b[1;33m)\u001b[0m\u001b[1;33m\u001b[0m\u001b[1;33m\u001b[0m\u001b[0m\n\u001b[1;32m--> 629\u001b[1;33m     \u001b[0m_nd_image\u001b[0m\u001b[1;33m.\u001b[0m\u001b[0mcorrelate\u001b[0m\u001b[1;33m(\u001b[0m\u001b[0minput\u001b[0m\u001b[1;33m,\u001b[0m \u001b[0mweights\u001b[0m\u001b[1;33m,\u001b[0m \u001b[0moutput\u001b[0m\u001b[1;33m,\u001b[0m \u001b[0mmode\u001b[0m\u001b[1;33m,\u001b[0m \u001b[0mcval\u001b[0m\u001b[1;33m,\u001b[0m \u001b[0morigins\u001b[0m\u001b[1;33m)\u001b[0m\u001b[1;33m\u001b[0m\u001b[1;33m\u001b[0m\u001b[0m\n\u001b[0m\u001b[0;32m    630\u001b[0m     \u001b[1;32mif\u001b[0m \u001b[0mtemp_needed\u001b[0m\u001b[1;33m:\u001b[0m\u001b[1;33m\u001b[0m\u001b[1;33m\u001b[0m\u001b[0m\n\u001b[0;32m    631\u001b[0m         \u001b[0mtemp\u001b[0m\u001b[1;33m[\u001b[0m\u001b[1;33m...\u001b[0m\u001b[1;33m]\u001b[0m \u001b[1;33m=\u001b[0m \u001b[0moutput\u001b[0m\u001b[1;33m\u001b[0m\u001b[1;33m\u001b[0m\u001b[0m\n",
      "\u001b[1;31mKeyboardInterrupt\u001b[0m: "
     ]
    }
   ],
   "source": [
    "GABOR=np.array([gabor_filter(img.reshape(img.shape[0],img.shape[1])) for img in resized_cropped_images]).reshape(-1,32)"
   ]
  },
  {
   "cell_type": "code",
   "execution_count": 530,
   "metadata": {},
   "outputs": [
    {
     "name": "stdout",
     "output_type": "stream",
     "text": [
      "(1685, 32)\n"
     ]
    }
   ],
   "source": [
    "print(GABOR.shape)"
   ]
  },
  {
   "cell_type": "code",
   "execution_count": 1019,
   "metadata": {},
   "outputs": [],
   "source": [
    "lbp=np.array([LBP(img,numPoints=24,radius=3,method=\"uniform\",window=500) for img in resized_cropped_images])"
   ]
  },
  {
   "cell_type": "code",
   "execution_count": 631,
   "metadata": {},
   "outputs": [
    {
     "name": "stdout",
     "output_type": "stream",
     "text": [
      "(1685,)\n"
     ]
    }
   ],
   "source": [
    "\n",
    "\n",
    "\n",
    "\n",
    "print(lbp.shape)"
   ]
  },
  {
   "cell_type": "code",
   "execution_count": 592,
   "metadata": {},
   "outputs": [
    {
     "data": {
      "text/plain": [
       "(1685, 108)"
      ]
     },
     "execution_count": 592,
     "metadata": {},
     "output_type": "execute_result"
    }
   ],
   "source": [
    "patches_hog.shape"
   ]
  },
  {
   "cell_type": "code",
   "execution_count": 1255,
   "metadata": {},
   "outputs": [],
   "source": [
    "#lbp,patches_hog\n",
    "combined=np.concatenate((LPQ,lbp),axis=-1)"
   ]
  },
  {
   "cell_type": "code",
   "execution_count": 1256,
   "metadata": {},
   "outputs": [],
   "source": [
    "mean=np.mean(combined)\n",
    "std=np.std(combined)"
   ]
  },
  {
   "cell_type": "code",
   "execution_count": 1257,
   "metadata": {},
   "outputs": [],
   "source": [
    "combined=(combined-mean)/std"
   ]
  },
  {
   "cell_type": "code",
   "execution_count": 1249,
   "metadata": {},
   "outputs": [
    {
     "name": "stdout",
     "output_type": "stream",
     "text": [
      "(1685, 281)\n"
     ]
    }
   ],
   "source": [
    "print(combined.shape)"
   ]
  },
  {
   "cell_type": "code",
   "execution_count": 1250,
   "metadata": {},
   "outputs": [
    {
     "name": "stdout",
     "output_type": "stream",
     "text": [
      "(1685, 281)\n"
     ]
    }
   ],
   "source": [
    "print(combined.shape)"
   ]
  },
  {
   "cell_type": "code",
   "execution_count": 1251,
   "metadata": {},
   "outputs": [],
   "source": [
    "LPQ=np.array(LPQ)"
   ]
  },
  {
   "cell_type": "code",
   "execution_count": 1252,
   "metadata": {},
   "outputs": [
    {
     "data": {
      "text/plain": [
       "['pca_model_2.sav']"
      ]
     },
     "execution_count": 1252,
     "metadata": {},
     "output_type": "execute_result"
    }
   ],
   "source": [
    "pca = PCA(n_components=100)\n",
    "combined=pca.fit_transform(combined)\n",
    "filename = 'pca_model_2.sav'\n",
    "joblib.dump(pca, filename)"
   ]
  },
  {
   "cell_type": "code",
   "execution_count": 986,
   "metadata": {},
   "outputs": [
    {
     "name": "stdout",
     "output_type": "stream",
     "text": [
      "(1685, 100)\n"
     ]
    }
   ],
   "source": [
    "print(combined.shape)"
   ]
  },
  {
   "cell_type": "code",
   "execution_count": 987,
   "metadata": {},
   "outputs": [
    {
     "ename": "AttributeError",
     "evalue": "'list' object has no attribute 'shape'",
     "output_type": "error",
     "traceback": [
      "\u001b[1;31m---------------------------------------------------------------------------\u001b[0m",
      "\u001b[1;31mAttributeError\u001b[0m                            Traceback (most recent call last)",
      "\u001b[1;32m<ipython-input-987-3eb411d71979>\u001b[0m in \u001b[0;36m<module>\u001b[1;34m\u001b[0m\n\u001b[1;32m----> 1\u001b[1;33m \u001b[0mprint\u001b[0m\u001b[1;33m(\u001b[0m\u001b[0mLPQ\u001b[0m\u001b[1;33m.\u001b[0m\u001b[0mshape\u001b[0m\u001b[1;33m)\u001b[0m\u001b[1;33m\u001b[0m\u001b[1;33m\u001b[0m\u001b[0m\n\u001b[0m",
      "\u001b[1;31mAttributeError\u001b[0m: 'list' object has no attribute 'shape'"
     ]
    }
   ],
   "source": [
    "print(LPQ.shape)"
   ]
  },
  {
   "cell_type": "code",
   "execution_count": 1027,
   "metadata": {},
   "outputs": [
    {
     "name": "stderr",
     "output_type": "stream",
     "text": [
      "C:\\Users\\Aya\\anaconda3\\lib\\site-packages\\sklearn\\neural_network\\_multilayer_perceptron.py:582: ConvergenceWarning: Stochastic Optimizer: Maximum iterations (200) reached and the optimization hasn't converged yet.\n",
      "  warnings.warn(\n",
      "C:\\Users\\Aya\\anaconda3\\lib\\site-packages\\sklearn\\neural_network\\_multilayer_perceptron.py:582: ConvergenceWarning: Stochastic Optimizer: Maximum iterations (200) reached and the optimization hasn't converged yet.\n",
      "  warnings.warn(\n",
      "C:\\Users\\Aya\\anaconda3\\lib\\site-packages\\sklearn\\neural_network\\_multilayer_perceptron.py:582: ConvergenceWarning: Stochastic Optimizer: Maximum iterations (200) reached and the optimization hasn't converged yet.\n",
      "  warnings.warn(\n",
      "C:\\Users\\Aya\\anaconda3\\lib\\site-packages\\sklearn\\neural_network\\_multilayer_perceptron.py:582: ConvergenceWarning: Stochastic Optimizer: Maximum iterations (200) reached and the optimization hasn't converged yet.\n",
      "  warnings.warn(\n"
     ]
    },
    {
     "name": "stdout",
     "output_type": "stream",
     "text": [
      "gaussian 0.9495548961424332\n"
     ]
    },
    {
     "name": "stderr",
     "output_type": "stream",
     "text": [
      "C:\\Users\\Aya\\anaconda3\\lib\\site-packages\\sklearn\\neural_network\\_multilayer_perceptron.py:582: ConvergenceWarning: Stochastic Optimizer: Maximum iterations (200) reached and the optimization hasn't converged yet.\n",
      "  warnings.warn(\n"
     ]
    }
   ],
   "source": [
    "from sklearn.neural_network import MLPClassifier\n",
    "#clf = MLPClassifier(solver='lbfgs', alpha=1e-5,hidden_layer_sizes=(50, 20), random_state=1,    early_stopping=True)\n",
    "clf = MLPClassifier(hidden_layer_sizes=(50,25))\n",
    "print('gaussian',np.mean(cross_val_score(clf, combined, y)))\n",
    "#clf.fit(combined_hog, y)\n",
    "#filename = 'final_nn_2.sav'\n",
    "#joblib.dump(clf, filename)"
   ]
  },
  {
   "cell_type": "code",
   "execution_count": 1228,
   "metadata": {},
   "outputs": [
    {
     "name": "stderr",
     "output_type": "stream",
     "text": [
      "C:\\Users\\Aya\\anaconda3\\lib\\site-packages\\sklearn\\neural_network\\_multilayer_perceptron.py:582: ConvergenceWarning: Stochastic Optimizer: Maximum iterations (200) reached and the optimization hasn't converged yet.\n",
      "  warnings.warn(\n",
      "C:\\Users\\Aya\\anaconda3\\lib\\site-packages\\sklearn\\neural_network\\_multilayer_perceptron.py:582: ConvergenceWarning: Stochastic Optimizer: Maximum iterations (200) reached and the optimization hasn't converged yet.\n",
      "  warnings.warn(\n",
      "C:\\Users\\Aya\\anaconda3\\lib\\site-packages\\sklearn\\neural_network\\_multilayer_perceptron.py:582: ConvergenceWarning: Stochastic Optimizer: Maximum iterations (200) reached and the optimization hasn't converged yet.\n",
      "  warnings.warn(\n",
      "C:\\Users\\Aya\\anaconda3\\lib\\site-packages\\sklearn\\neural_network\\_multilayer_perceptron.py:582: ConvergenceWarning: Stochastic Optimizer: Maximum iterations (200) reached and the optimization hasn't converged yet.\n",
      "  warnings.warn(\n",
      "C:\\Users\\Aya\\anaconda3\\lib\\site-packages\\sklearn\\neural_network\\_multilayer_perceptron.py:582: ConvergenceWarning: Stochastic Optimizer: Maximum iterations (200) reached and the optimization hasn't converged yet.\n",
      "  warnings.warn(\n"
     ]
    },
    {
     "name": "stdout",
     "output_type": "stream",
     "text": [
      "gaussian 0.6492581602373888\n"
     ]
    },
    {
     "name": "stderr",
     "output_type": "stream",
     "text": [
      "C:\\Users\\Aya\\anaconda3\\lib\\site-packages\\sklearn\\neural_network\\_multilayer_perceptron.py:582: ConvergenceWarning: Stochastic Optimizer: Maximum iterations (200) reached and the optimization hasn't converged yet.\n",
      "  warnings.warn(\n"
     ]
    },
    {
     "data": {
      "text/plain": [
       "['LPQ_BAS.sav']"
      ]
     },
     "execution_count": 1228,
     "metadata": {},
     "output_type": "execute_result"
    }
   ],
   "source": [
    "from sklearn.neural_network import MLPClassifier\n",
    "#clf = MLPClassifier(solver='lbfgs', alpha=1e-5,hidden_layer_sizes=(50, 20), random_state=1,    early_stopping=True)\n",
    "clf = MLPClassifier(hidden_layer_sizes=(50))\n",
    "print('gaussian',np.mean(cross_val_score(clf, LPQ, y)))\n",
    "clf.fit(LPQ, y)\n",
    "filename = 'LPQ_BAS.sav'\n",
    "joblib.dump(clf, filename)\n",
    "#clf.fit(combined_hog, y)\n",
    "#filename = 'final_nn_2.sav'\n",
    "#joblib.dump(clf, filename)"
   ]
  },
  {
   "cell_type": "code",
   "execution_count": 1210,
   "metadata": {},
   "outputs": [
    {
     "name": "stderr",
     "output_type": "stream",
     "text": [
      "C:\\Users\\Aya\\anaconda3\\lib\\site-packages\\sklearn\\neural_network\\_multilayer_perceptron.py:582: ConvergenceWarning: Stochastic Optimizer: Maximum iterations (200) reached and the optimization hasn't converged yet.\n",
      "  warnings.warn(\n",
      "C:\\Users\\Aya\\anaconda3\\lib\\site-packages\\sklearn\\neural_network\\_multilayer_perceptron.py:582: ConvergenceWarning: Stochastic Optimizer: Maximum iterations (200) reached and the optimization hasn't converged yet.\n",
      "  warnings.warn(\n",
      "C:\\Users\\Aya\\anaconda3\\lib\\site-packages\\sklearn\\neural_network\\_multilayer_perceptron.py:582: ConvergenceWarning: Stochastic Optimizer: Maximum iterations (200) reached and the optimization hasn't converged yet.\n",
      "  warnings.warn(\n",
      "C:\\Users\\Aya\\anaconda3\\lib\\site-packages\\sklearn\\neural_network\\_multilayer_perceptron.py:582: ConvergenceWarning: Stochastic Optimizer: Maximum iterations (200) reached and the optimization hasn't converged yet.\n",
      "  warnings.warn(\n",
      "C:\\Users\\Aya\\anaconda3\\lib\\site-packages\\sklearn\\neural_network\\_multilayer_perceptron.py:582: ConvergenceWarning: Stochastic Optimizer: Maximum iterations (200) reached and the optimization hasn't converged yet.\n",
      "  warnings.warn(\n"
     ]
    },
    {
     "name": "stdout",
     "output_type": "stream",
     "text": [
      "gaussian 0.5780415430267063\n"
     ]
    },
    {
     "name": "stderr",
     "output_type": "stream",
     "text": [
      "C:\\Users\\Aya\\anaconda3\\lib\\site-packages\\sklearn\\neural_network\\_multilayer_perceptron.py:582: ConvergenceWarning: Stochastic Optimizer: Maximum iterations (200) reached and the optimization hasn't converged yet.\n",
      "  warnings.warn(\n"
     ]
    },
    {
     "data": {
      "text/plain": [
       "['LBP_BAS.sav']"
      ]
     },
     "execution_count": 1210,
     "metadata": {},
     "output_type": "execute_result"
    }
   ],
   "source": [
    "from sklearn.neural_network import MLPClassifier\n",
    "#clf = MLPClassifier(solver='lbfgs', alpha=1e-5,hidden_layer_sizes=(50, 20), random_state=1,    early_stopping=True)\n",
    "clf = MLPClassifier(hidden_layer_sizes=(50,25))\n",
    "print('gaussian',np.mean(cross_val_score(clf, lbp, y)))\n",
    "clf.probability=True\n",
    "clf.fit(lbp, y)\n",
    "filename = 'LBP_BAS.sav'\n",
    "joblib.dump(clf, filename)\n",
    "#clf.fit(combined_hog, y)\n",
    "#filename = 'final_nn_2.sav'\n",
    "#joblib.dump(clf, filename)"
   ]
  },
  {
   "cell_type": "code",
   "execution_count": 1209,
   "metadata": {},
   "outputs": [
    {
     "name": "stderr",
     "output_type": "stream",
     "text": [
      "C:\\Users\\Aya\\anaconda3\\lib\\site-packages\\sklearn\\neural_network\\_multilayer_perceptron.py:582: ConvergenceWarning: Stochastic Optimizer: Maximum iterations (200) reached and the optimization hasn't converged yet.\n",
      "  warnings.warn(\n",
      "C:\\Users\\Aya\\anaconda3\\lib\\site-packages\\sklearn\\neural_network\\_multilayer_perceptron.py:582: ConvergenceWarning: Stochastic Optimizer: Maximum iterations (200) reached and the optimization hasn't converged yet.\n",
      "  warnings.warn(\n",
      "C:\\Users\\Aya\\anaconda3\\lib\\site-packages\\sklearn\\neural_network\\_multilayer_perceptron.py:582: ConvergenceWarning: Stochastic Optimizer: Maximum iterations (200) reached and the optimization hasn't converged yet.\n",
      "  warnings.warn(\n",
      "C:\\Users\\Aya\\anaconda3\\lib\\site-packages\\sklearn\\neural_network\\_multilayer_perceptron.py:582: ConvergenceWarning: Stochastic Optimizer: Maximum iterations (200) reached and the optimization hasn't converged yet.\n",
      "  warnings.warn(\n",
      "C:\\Users\\Aya\\anaconda3\\lib\\site-packages\\sklearn\\neural_network\\_multilayer_perceptron.py:582: ConvergenceWarning: Stochastic Optimizer: Maximum iterations (200) reached and the optimization hasn't converged yet.\n",
      "  warnings.warn(\n"
     ]
    },
    {
     "name": "stdout",
     "output_type": "stream",
     "text": [
      "gaussian 0.7899109792284866\n"
     ]
    },
    {
     "name": "stderr",
     "output_type": "stream",
     "text": [
      "C:\\Users\\Aya\\anaconda3\\lib\\site-packages\\sklearn\\neural_network\\_multilayer_perceptron.py:582: ConvergenceWarning: Stochastic Optimizer: Maximum iterations (200) reached and the optimization hasn't converged yet.\n",
      "  warnings.warn(\n"
     ]
    },
    {
     "data": {
      "text/plain": [
       "['HOG_BAS.sav']"
      ]
     },
     "execution_count": 1209,
     "metadata": {},
     "output_type": "execute_result"
    }
   ],
   "source": [
    "from sklearn.neural_network import MLPClassifier\n",
    "#clf = MLPClassifier(solver='lbfgs', alpha=1e-5,hidden_layer_sizes=(50, 20), random_state=1,    early_stopping=True)\n",
    "clf = MLPClassifier(hidden_layer_sizes=(50,25))\n",
    "print('gaussian',np.mean(cross_val_score(clf, patches_hog, y)))\n",
    "clf.probability=True\n",
    "clf.fit(patches_hog, y)\n",
    "filename = 'HOG_BAS.sav'\n",
    "joblib.dump(clf, filename)\n",
    "#clf.fit(combined_hog, y)\n",
    "#filename = 'final_nn_2.sav'\n",
    "#joblib.dump(clf, filename)"
   ]
  },
  {
   "cell_type": "code",
   "execution_count": 1341,
   "metadata": {},
   "outputs": [
    {
     "name": "stdout",
     "output_type": "stream",
     "text": [
      "gaussian 0.944807121661721\n"
     ]
    }
   ],
   "source": [
    "#clf_nn = MLPClassifier(hidden_layer_sizes=(50))\n",
    "#,'gamma':[0.001,0.01,1,8]\n",
    "#clf_svm = GridSearchCV(SVC(kernel='rbf',probability=True), {'C': [0.01,0.1,1.0, 100],'gamma':[0.001,0.01,1,8]})\n",
    "#eclf2 = VotingClassifier(estimators=[\n",
    "#         ('nn', clf_nn),('svm',clf_svm)],\n",
    "#         voting='soft',\n",
    "#        flatten_transform=True)\n",
    "#clf_svm = GridSearchCV(SVC(kernel='rbf',probability=True), {'C': [0.01,0.1,1.0, 100],'gamma':[0.001,0.01,1,8]})\n",
    "clf_svm=SVC(kernel='rbf',probability=True,C=1000,gamma=5)\n",
    "print('gaussian',np.mean(cross_val_score(clf_svm,LPQ, y)))"
   ]
  },
  {
   "cell_type": "code",
   "execution_count": 1253,
   "metadata": {},
   "outputs": [
    {
     "name": "stdout",
     "output_type": "stream",
     "text": [
      "(1685, 100)\n"
     ]
    }
   ],
   "source": [
    "print(combined.shape)"
   ]
  },
  {
   "cell_type": "code",
   "execution_count": 1305,
   "metadata": {},
   "outputs": [
    {
     "data": {
      "text/plain": [
       "['LPQ_BAS_ALIA.sav']"
      ]
     },
     "execution_count": 1305,
     "metadata": {},
     "output_type": "execute_result"
    }
   ],
   "source": [
    "clf_svm.probability=True\n",
    "clf_svm.fit(LPQ, y)\n",
    "filename = 'LPQ_BAS_ALIA.sav'\n",
    "joblib.dump(clf_svm, filename)"
   ]
  },
  {
   "cell_type": "code",
   "execution_count": null,
   "metadata": {},
   "outputs": [],
   "source": [
    "clf_nn = MLPClassifier(hidden_layer_sizes=(50,25))\n",
    "#,'gamma':[0.001,0.01,1,8]\n",
    "clf_svm = GridSearchCV(SVC(kernel='rbf',probability=True), {'C': [0.01,0.1,1.0, 100],'gamma':[0.001,0.01,1,8]})\n",
    "eclf2 = VotingClassifier(estimators=[\n",
    "         ('nn', clf_nn),('svm',clf_svm)],\n",
    "         voting='soft',\n",
    "         flatten_transform=True)\n",
    "print('gaussian',np.mean(cross_val_score(eclf2,combined, y)))\n",
    "eclf2.fit(combined, y)\n",
    "filename = 'final_voting_lpq_hog.sav'\n",
    "joblib.dump(eclf2, filename)"
   ]
  },
  {
   "cell_type": "code",
   "execution_count": null,
   "metadata": {},
   "outputs": [],
   "source": [
    "show_images([cropped_images[1050]])"
   ]
  },
  {
   "cell_type": "code",
   "execution_count": null,
   "metadata": {},
   "outputs": [],
   "source": [
    "print(combined.shape)"
   ]
  },
  {
   "cell_type": "code",
   "execution_count": 1300,
   "metadata": {},
   "outputs": [],
   "source": [
    "image = Image.open (os.path.join('test','1','1.png'))\n",
    "image = np.array(image.convert (\"L\"))"
   ]
  },
  {
   "cell_type": "code",
   "execution_count": 1301,
   "metadata": {},
   "outputs": [
    {
     "name": "stdout",
     "output_type": "stream",
     "text": [
      "255\n",
      "0\n",
      "127.5\n",
      "hehhh\n",
      "[[[False]\n",
      "  [False]\n",
      "  [False]\n",
      "  ...\n",
      "  [False]\n",
      "  [False]\n",
      "  [False]]\n",
      "\n",
      " [[False]\n",
      "  [False]\n",
      "  [False]\n",
      "  ...\n",
      "  [False]\n",
      "  [False]\n",
      "  [False]]\n",
      "\n",
      " [[False]\n",
      "  [False]\n",
      "  [False]\n",
      "  ...\n",
      "  [False]\n",
      "  [False]\n",
      "  [False]]\n",
      "\n",
      " ...\n",
      "\n",
      " [[False]\n",
      "  [False]\n",
      "  [False]\n",
      "  ...\n",
      "  [False]\n",
      "  [False]\n",
      "  [False]]\n",
      "\n",
      " [[False]\n",
      "  [False]\n",
      "  [False]\n",
      "  ...\n",
      "  [False]\n",
      "  [False]\n",
      "  [False]]\n",
      "\n",
      " [[False]\n",
      "  [False]\n",
      "  [False]\n",
      "  ...\n",
      "  [False]\n",
      "  [False]\n",
      "  [False]]]\n"
     ]
    },
    {
     "data": {
      "image/png": "[encoded data removed]",
      "text/plain": [
       "<Figure size 432x288 with 1 Axes>"
      ]
     },
     "metadata": {
      "needs_background": "light"
     },
     "output_type": "display_data"
    }
   ],
   "source": [
    "show_images([crop_image(pre_process(image.reshape(image.shape[0],image.shape[1],1)))])"
   ]
  },
  {
   "cell_type": "code",
   "execution_count": 1302,
   "metadata": {},
   "outputs": [
    {
     "name": "stdout",
     "output_type": "stream",
     "text": [
      "255\n",
      "0\n",
      "127.5\n",
      "hehhh\n",
      "[[[False]\n",
      "  [False]\n",
      "  [False]\n",
      "  ...\n",
      "  [False]\n",
      "  [False]\n",
      "  [False]]\n",
      "\n",
      " [[False]\n",
      "  [False]\n",
      "  [False]\n",
      "  ...\n",
      "  [False]\n",
      "  [False]\n",
      "  [False]]\n",
      "\n",
      " [[False]\n",
      "  [False]\n",
      "  [False]\n",
      "  ...\n",
      "  [False]\n",
      "  [False]\n",
      "  [False]]\n",
      "\n",
      " ...\n",
      "\n",
      " [[False]\n",
      "  [False]\n",
      "  [False]\n",
      "  ...\n",
      "  [False]\n",
      "  [False]\n",
      "  [False]]\n",
      "\n",
      " [[False]\n",
      "  [False]\n",
      "  [False]\n",
      "  ...\n",
      "  [False]\n",
      "  [False]\n",
      "  [False]]\n",
      "\n",
      " [[False]\n",
      "  [False]\n",
      "  [False]\n",
      "  ...\n",
      "  [False]\n",
      "  [False]\n",
      "  [False]]]\n"
     ]
    }
   ],
   "source": [
    "cropped_iamge=crop_image(pre_process(image.reshape(image.shape[0],image.shape[1],1)))"
   ]
  },
  {
   "cell_type": "code",
   "execution_count": 1303,
   "metadata": {},
   "outputs": [
    {
     "name": "stdout",
     "output_type": "stream",
     "text": [
      "255\n",
      "0\n",
      "127.5\n",
      "hehhh\n"
     ]
    }
   ],
   "source": [
    "pre_processed_image=pre_process(image.reshape(image.shape[0],image.shape[1],1))"
   ]
  },
  {
   "cell_type": "code",
   "execution_count": 1306,
   "metadata": {},
   "outputs": [
    {
     "name": "stdout",
     "output_type": "stream",
     "text": [
      "[[0.11956119 0.00444232 0.00711939 0.09102412 0.11092192 0.53976676\n",
      "  0.11394746 0.0110565  0.00216033]]\n",
      "['6']\n"
     ]
    }
   ],
   "source": [
    "lpq_image=lpq(pre_processed_image.reshape(pre_processed_image.shape[0],pre_processed_image.shape[1]),winSize=11)\n",
    "model=joblib.load('LPQ_BAS_ALIA.sav')\n",
    "print(model.predict_proba(lpq_image.reshape(1,-1)))\n",
    "print(model.predict(lpq_image.reshape(1,-1)))"
   ]
  },
  {
   "cell_type": "code",
   "execution_count": 1297,
   "metadata": {},
   "outputs": [],
   "source": [
    "model=joblib.load('final_nn2.sav')\n",
    "model_pca=joblib.load('pca_model_2.sav')"
   ]
  },
  {
   "cell_type": "code",
   "execution_count": 1236,
   "metadata": {},
   "outputs": [
    {
     "name": "stdout",
     "output_type": "stream",
     "text": [
      "[[0.00520625 0.10760716 0.09383564 0.35629982 0.00105645 0.28581914\n",
      "  0.09139916 0.05734412 0.00143226]]\n",
      "['4']\n"
     ]
    }
   ],
   "source": [
    "lbp2=LBP(cv2.resize(np.array(cropped_iamge.reshape(cropped_iamge.shape[0],cropped_iamge.shape[1],1), dtype='uint8'), (500,500), interpolation = cv2.INTER_AREA),numPoints=24,radius=3,method=\"uniform\",window=500)\n",
    "model=joblib.load('lbp_bas.sav')\n",
    "print(model.predict_proba(lbp2.reshape(1,-1)))\n",
    "print(model.predict(lbp2.reshape(1,-1)))"
   ]
  },
  {
   "cell_type": "code",
   "execution_count": 1190,
   "metadata": {},
   "outputs": [],
   "source": [
    "glcm1=GLCM_features(cropped_iamge.reshape(cropped_iamge.shape[0],cropped_iamge.shape[1]))"
   ]
  },
  {
   "cell_type": "code",
   "execution_count": 1191,
   "metadata": {},
   "outputs": [
    {
     "ename": "ValueError",
     "evalue": "matmul: Input operand 1 has a mismatch in its core dimension 0, with gufunc signature (n?,k),(k,m?)->(n?,m?) (size 100 is different from 255)",
     "output_type": "error",
     "traceback": [
      "\u001b[1;31m---------------------------------------------------------------------------\u001b[0m",
      "\u001b[1;31mValueError\u001b[0m                                Traceback (most recent call last)",
      "\u001b[1;32m<ipython-input-1191-da49f7c1f30e>\u001b[0m in \u001b[0;36m<module>\u001b[1;34m\u001b[0m\n\u001b[1;32m----> 1\u001b[1;33m \u001b[0mmodel\u001b[0m\u001b[1;33m.\u001b[0m\u001b[0mpredict\u001b[0m\u001b[1;33m(\u001b[0m\u001b[0mlpq_image\u001b[0m\u001b[1;33m.\u001b[0m\u001b[0mreshape\u001b[0m\u001b[1;33m(\u001b[0m\u001b[1;36m1\u001b[0m\u001b[1;33m,\u001b[0m\u001b[1;33m-\u001b[0m\u001b[1;36m1\u001b[0m\u001b[1;33m)\u001b[0m\u001b[1;33m)\u001b[0m\u001b[1;33m\u001b[0m\u001b[1;33m\u001b[0m\u001b[0m\n\u001b[0m",
      "\u001b[1;32m~\\anaconda3\\lib\\site-packages\\sklearn\\neural_network\\_multilayer_perceptron.py\u001b[0m in \u001b[0;36mpredict\u001b[1;34m(self, X)\u001b[0m\n\u001b[0;32m   1002\u001b[0m         \"\"\"\n\u001b[0;32m   1003\u001b[0m         \u001b[0mcheck_is_fitted\u001b[0m\u001b[1;33m(\u001b[0m\u001b[0mself\u001b[0m\u001b[1;33m)\u001b[0m\u001b[1;33m\u001b[0m\u001b[1;33m\u001b[0m\u001b[0m\n\u001b[1;32m-> 1004\u001b[1;33m         \u001b[0my_pred\u001b[0m \u001b[1;33m=\u001b[0m \u001b[0mself\u001b[0m\u001b[1;33m.\u001b[0m\u001b[0m_predict\u001b[0m\u001b[1;33m(\u001b[0m\u001b[0mX\u001b[0m\u001b[1;33m)\u001b[0m\u001b[1;33m\u001b[0m\u001b[1;33m\u001b[0m\u001b[0m\n\u001b[0m\u001b[0;32m   1005\u001b[0m \u001b[1;33m\u001b[0m\u001b[0m\n\u001b[0;32m   1006\u001b[0m         \u001b[1;32mif\u001b[0m \u001b[0mself\u001b[0m\u001b[1;33m.\u001b[0m\u001b[0mn_outputs_\u001b[0m \u001b[1;33m==\u001b[0m \u001b[1;36m1\u001b[0m\u001b[1;33m:\u001b[0m\u001b[1;33m\u001b[0m\u001b[1;33m\u001b[0m\u001b[0m\n",
      "\u001b[1;32m~\\anaconda3\\lib\\site-packages\\sklearn\\neural_network\\_multilayer_perceptron.py\u001b[0m in \u001b[0;36m_predict\u001b[1;34m(self, X)\u001b[0m\n\u001b[0;32m    697\u001b[0m                                          layer_units[i + 1])))\n\u001b[0;32m    698\u001b[0m         \u001b[1;31m# forward propagate\u001b[0m\u001b[1;33m\u001b[0m\u001b[1;33m\u001b[0m\u001b[1;33m\u001b[0m\u001b[0m\n\u001b[1;32m--> 699\u001b[1;33m         \u001b[0mself\u001b[0m\u001b[1;33m.\u001b[0m\u001b[0m_forward_pass\u001b[0m\u001b[1;33m(\u001b[0m\u001b[0mactivations\u001b[0m\u001b[1;33m)\u001b[0m\u001b[1;33m\u001b[0m\u001b[1;33m\u001b[0m\u001b[0m\n\u001b[0m\u001b[0;32m    700\u001b[0m         \u001b[0my_pred\u001b[0m \u001b[1;33m=\u001b[0m \u001b[0mactivations\u001b[0m\u001b[1;33m[\u001b[0m\u001b[1;33m-\u001b[0m\u001b[1;36m1\u001b[0m\u001b[1;33m]\u001b[0m\u001b[1;33m\u001b[0m\u001b[1;33m\u001b[0m\u001b[0m\n\u001b[0;32m    701\u001b[0m \u001b[1;33m\u001b[0m\u001b[0m\n",
      "\u001b[1;32m~\\anaconda3\\lib\\site-packages\\sklearn\\neural_network\\_multilayer_perceptron.py\u001b[0m in \u001b[0;36m_forward_pass\u001b[1;34m(self, activations)\u001b[0m\n\u001b[0;32m    102\u001b[0m         \u001b[1;31m# Iterate over the hidden layers\u001b[0m\u001b[1;33m\u001b[0m\u001b[1;33m\u001b[0m\u001b[1;33m\u001b[0m\u001b[0m\n\u001b[0;32m    103\u001b[0m         \u001b[1;32mfor\u001b[0m \u001b[0mi\u001b[0m \u001b[1;32min\u001b[0m \u001b[0mrange\u001b[0m\u001b[1;33m(\u001b[0m\u001b[0mself\u001b[0m\u001b[1;33m.\u001b[0m\u001b[0mn_layers_\u001b[0m \u001b[1;33m-\u001b[0m \u001b[1;36m1\u001b[0m\u001b[1;33m)\u001b[0m\u001b[1;33m:\u001b[0m\u001b[1;33m\u001b[0m\u001b[1;33m\u001b[0m\u001b[0m\n\u001b[1;32m--> 104\u001b[1;33m             activations[i + 1] = safe_sparse_dot(activations[i],\n\u001b[0m\u001b[0;32m    105\u001b[0m                                                  self.coefs_[i])\n\u001b[0;32m    106\u001b[0m             \u001b[0mactivations\u001b[0m\u001b[1;33m[\u001b[0m\u001b[0mi\u001b[0m \u001b[1;33m+\u001b[0m \u001b[1;36m1\u001b[0m\u001b[1;33m]\u001b[0m \u001b[1;33m+=\u001b[0m \u001b[0mself\u001b[0m\u001b[1;33m.\u001b[0m\u001b[0mintercepts_\u001b[0m\u001b[1;33m[\u001b[0m\u001b[0mi\u001b[0m\u001b[1;33m]\u001b[0m\u001b[1;33m\u001b[0m\u001b[1;33m\u001b[0m\u001b[0m\n",
      "\u001b[1;32m~\\anaconda3\\lib\\site-packages\\sklearn\\utils\\validation.py\u001b[0m in \u001b[0;36minner_f\u001b[1;34m(*args, **kwargs)\u001b[0m\n\u001b[0;32m     70\u001b[0m                           FutureWarning)\n\u001b[0;32m     71\u001b[0m         \u001b[0mkwargs\u001b[0m\u001b[1;33m.\u001b[0m\u001b[0mupdate\u001b[0m\u001b[1;33m(\u001b[0m\u001b[1;33m{\u001b[0m\u001b[0mk\u001b[0m\u001b[1;33m:\u001b[0m \u001b[0marg\u001b[0m \u001b[1;32mfor\u001b[0m \u001b[0mk\u001b[0m\u001b[1;33m,\u001b[0m \u001b[0marg\u001b[0m \u001b[1;32min\u001b[0m \u001b[0mzip\u001b[0m\u001b[1;33m(\u001b[0m\u001b[0msig\u001b[0m\u001b[1;33m.\u001b[0m\u001b[0mparameters\u001b[0m\u001b[1;33m,\u001b[0m \u001b[0margs\u001b[0m\u001b[1;33m)\u001b[0m\u001b[1;33m}\u001b[0m\u001b[1;33m)\u001b[0m\u001b[1;33m\u001b[0m\u001b[1;33m\u001b[0m\u001b[0m\n\u001b[1;32m---> 72\u001b[1;33m         \u001b[1;32mreturn\u001b[0m \u001b[0mf\u001b[0m\u001b[1;33m(\u001b[0m\u001b[1;33m**\u001b[0m\u001b[0mkwargs\u001b[0m\u001b[1;33m)\u001b[0m\u001b[1;33m\u001b[0m\u001b[1;33m\u001b[0m\u001b[0m\n\u001b[0m\u001b[0;32m     73\u001b[0m     \u001b[1;32mreturn\u001b[0m \u001b[0minner_f\u001b[0m\u001b[1;33m\u001b[0m\u001b[1;33m\u001b[0m\u001b[0m\n\u001b[0;32m     74\u001b[0m \u001b[1;33m\u001b[0m\u001b[0m\n",
      "\u001b[1;32m~\\anaconda3\\lib\\site-packages\\sklearn\\utils\\extmath.py\u001b[0m in \u001b[0;36msafe_sparse_dot\u001b[1;34m(a, b, dense_output)\u001b[0m\n\u001b[0;32m    151\u001b[0m             \u001b[0mret\u001b[0m \u001b[1;33m=\u001b[0m \u001b[0mnp\u001b[0m\u001b[1;33m.\u001b[0m\u001b[0mdot\u001b[0m\u001b[1;33m(\u001b[0m\u001b[0ma\u001b[0m\u001b[1;33m,\u001b[0m \u001b[0mb\u001b[0m\u001b[1;33m)\u001b[0m\u001b[1;33m\u001b[0m\u001b[1;33m\u001b[0m\u001b[0m\n\u001b[0;32m    152\u001b[0m     \u001b[1;32melse\u001b[0m\u001b[1;33m:\u001b[0m\u001b[1;33m\u001b[0m\u001b[1;33m\u001b[0m\u001b[0m\n\u001b[1;32m--> 153\u001b[1;33m         \u001b[0mret\u001b[0m \u001b[1;33m=\u001b[0m \u001b[0ma\u001b[0m \u001b[1;33m@\u001b[0m \u001b[0mb\u001b[0m\u001b[1;33m\u001b[0m\u001b[1;33m\u001b[0m\u001b[0m\n\u001b[0m\u001b[0;32m    154\u001b[0m \u001b[1;33m\u001b[0m\u001b[0m\n\u001b[0;32m    155\u001b[0m     if (sparse.issparse(a) and sparse.issparse(b)\n",
      "\u001b[1;31mValueError\u001b[0m: matmul: Input operand 1 has a mismatch in its core dimension 0, with gufunc signature (n?,k),(k,m?)->(n?,m?) (size 100 is different from 255)"
     ]
    }
   ],
   "source": [
    "model.predict(lpq_image.reshape(1,-1))"
   ]
  },
  {
   "cell_type": "code",
   "execution_count": 1192,
   "metadata": {},
   "outputs": [],
   "source": [
    "#comined=np.concatenate((np.array(lpq_image).reshape(1,255),np.array(glcm1).reshape(-1,16),hog.reshape(1,-1)),axis=-1)\n",
    "comined=np.concatenate((np.array(lpq_image).reshape(1,255),lbp2.reshape(-1,26)),axis=-1)"
   ]
  },
  {
   "cell_type": "code",
   "execution_count": 1223,
   "metadata": {},
   "outputs": [
    {
     "name": "stdout",
     "output_type": "stream",
     "text": [
      "[[9.96197243e-02 2.95010830e-03 3.95613982e-06 1.02113495e-05\n",
      "  6.28435644e-04 2.21328782e-01 4.20304861e-04 6.75038477e-01\n",
      "  1.10620855e-10]]\n",
      "['8']\n"
     ]
    }
   ],
   "source": [
    "hog=feature.hog(cv2.resize(np.array(cropped_iamge.reshape(cropped_iamge.shape[0],cropped_iamge.shape[1],1), dtype='uint8'), (500,500), interpolation = cv2.INTER_AREA),cells_per_block=(2, 2),pixels_per_cell=(120, 120), orientations=9).reshape(1,-1)\n",
    "model=joblib.load('hog_bas.sav')\n",
    "print(model.predict_proba(hog.reshape(1,-1)))\n",
    "print(model.predict(hog.reshape(1,-1)))"
   ]
  },
  {
   "cell_type": "code",
   "execution_count": 1194,
   "metadata": {},
   "outputs": [
    {
     "name": "stdout",
     "output_type": "stream",
     "text": [
      "[[189 189 190 ... 197 196 195]\n",
      " [188 188 189 ... 197 196 195]\n",
      " [186 187 188 ... 197 196 195]\n",
      " ...\n",
      " [172 175 178 ... 182 181 180]\n",
      " [173 175 179 ... 183 183 182]\n",
      " [173 176 179 ... 184 183 182]]\n"
     ]
    }
   ],
   "source": [
    "print(X[0])"
   ]
  },
  {
   "cell_type": "code",
   "execution_count": 1195,
   "metadata": {},
   "outputs": [],
   "source": [
    "comined=(comined-mean)/std"
   ]
  },
  {
   "cell_type": "code",
   "execution_count": 1196,
   "metadata": {},
   "outputs": [
    {
     "name": "stdout",
     "output_type": "stream",
     "text": [
      "(1, 281)\n"
     ]
    }
   ],
   "source": [
    "print(comined.shape)"
   ]
  },
  {
   "cell_type": "code",
   "execution_count": 1197,
   "metadata": {},
   "outputs": [],
   "source": [
    "pca_output=model_pca.transform(comined)"
   ]
  },
  {
   "cell_type": "code",
   "execution_count": 1198,
   "metadata": {},
   "outputs": [
    {
     "data": {
      "text/plain": [
       "array(['3'], dtype='<U1')"
      ]
     },
     "execution_count": 1198,
     "metadata": {},
     "output_type": "execute_result"
    }
   ],
   "source": [
    "model.predict(pca_output.reshape(1,-1))"
   ]
  },
  {
   "cell_type": "code",
   "execution_count": 1199,
   "metadata": {},
   "outputs": [],
   "source": [
    "def predict(test_image):\n",
    "    model1.predict_proba(test_image)"
   ]
  },
  {
   "cell_type": "code",
   "execution_count": 984,
   "metadata": {},
   "outputs": [],
   "source": [
    "def voting_classifier():\n",
    "    probabilities1=model1.predict_proba(lpq)*0.7\n",
    "    probabilities2=model2.predict_proba(hog)*0.8\n",
    "    probabilities3=model3.predict_proba(lbp)*0.6\n",
    "    maxi=1\n",
    "    if probabilities2.max()>maxi:\n",
    "        maxi=2\n",
    "    if probabilities3.max()>maxi: \n",
    "        maxi=3\n",
    "    if maxi==1:\n",
    "        return model1.predict(lpq)\n",
    "    if maxi==2:\n",
    "        return model2.predict(hog)\n",
    "    else:\n",
    "        return model3.predict(lbp)"
   ]
  },
  {
   "cell_type": "code",
   "execution_count": null,
   "metadata": {},
   "outputs": [],
   "source": []
  },
  {
   "cell_type": "code",
   "execution_count": null,
   "metadata": {},
   "outputs": [],
   "source": []
  }
 ],
 "metadata": {
  "kernelspec": {
   "display_name": "Python 3",
   "language": "python",
   "name": "python3"
  },
  "language_info": {
   "codemirror_mode": {
    "name": "ipython",
    "version": 3
   },
   "file_extension": ".py",
   "mimetype": "text/x-python",
   "name": "python",
   "nbconvert_exporter": "python",
   "pygments_lexer": "ipython3",
   "version": "3.8.5"
  }
 },
 "nbformat": 4,
 "nbformat_minor": 4
}
